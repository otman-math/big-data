#importation{
 "cells": [
  {
   "cell_type": "code",
   "execution_count": 216,
   "metadata": {},
   "outputs": [],
   "source": [
    "import numpy as np \n",
    "np.set_printoptions(threshold=10000,suppress=True) \n",
    "import pandas as pd\n",
    "import warnings\n",
    "import matplotlib.pyplot as plt \n",
    "warnings.filterwarnings('ignore')\n",
    "import sklearn\n",
    "from sklearn.preprocessing import StandardScaler\n",
    "from sklearn.decomposition import PCA\n",
    "from sklearn import cluster\n",
    "import matplotlib.pyplot as plt  \n",
    "from sklearn import metrics \n",
    "import re"
   ]
  },
  {
   "cell_type": "code",
   "execution_count": 217,
   "metadata": {
    "scrolled": true
   },
   "outputs": [
    {
     "data": {
      "text/html": [
       "<div>\n",
       "<style scoped>\n",
       "    .dataframe tbody tr th:only-of-type {\n",
       "        vertical-align: middle;\n",
       "    }\n",
       "\n",
       "    .dataframe tbody tr th {\n",
       "        vertical-align: top;\n",
       "    }\n",
       "\n",
       "    .dataframe thead th {\n",
       "        text-align: right;\n",
       "    }\n",
       "</style>\n",
       "<table border=\"1\" class=\"dataframe\">\n",
       "  <thead>\n",
       "    <tr style=\"text-align: right;\">\n",
       "      <th></th>\n",
       "      <th>insee</th>\n",
       "      <th>date</th>\n",
       "      <th>pmer</th>\n",
       "      <th>tend</th>\n",
       "      <th>cod_tend</th>\n",
       "      <th>rr6</th>\n",
       "      <th>pres</th>\n",
       "      <th>td</th>\n",
       "      <th>t</th>\n",
       "      <th>ff</th>\n",
       "      <th>dd</th>\n",
       "      <th>u</th>\n",
       "      <th>vv</th>\n",
       "      <th>nbas</th>\n",
       "      <th>hbas</th>\n",
       "      <th>valeur</th>\n",
       "      <th>couleur_html</th>\n",
       "      <th>qualificatif</th>\n",
       "      <th>type_valeur</th>\n",
       "    </tr>\n",
       "  </thead>\n",
       "  <tbody>\n",
       "    <tr>\n",
       "      <td>0</td>\n",
       "      <td>7481</td>\n",
       "      <td>2017-12-01</td>\n",
       "      <td>101337.50</td>\n",
       "      <td>62.50</td>\n",
       "      <td>3.62</td>\n",
       "      <td>0.12</td>\n",
       "      <td>98366.25</td>\n",
       "      <td>270.84</td>\n",
       "      <td>273.99</td>\n",
       "      <td>4.12</td>\n",
       "      <td>295.00</td>\n",
       "      <td>79.62</td>\n",
       "      <td>22373.75</td>\n",
       "      <td>5.62</td>\n",
       "      <td>537.50</td>\n",
       "      <td>24.870858</td>\n",
       "      <td>#5CCB60</td>\n",
       "      <td>Bon</td>\n",
       "      <td>réelle</td>\n",
       "    </tr>\n",
       "    <tr>\n",
       "      <td>1</td>\n",
       "      <td>7481</td>\n",
       "      <td>2017-12-02</td>\n",
       "      <td>101936.25</td>\n",
       "      <td>76.25</td>\n",
       "      <td>2.38</td>\n",
       "      <td>0.00</td>\n",
       "      <td>98938.75</td>\n",
       "      <td>269.79</td>\n",
       "      <td>273.26</td>\n",
       "      <td>6.84</td>\n",
       "      <td>347.50</td>\n",
       "      <td>77.62</td>\n",
       "      <td>13086.25</td>\n",
       "      <td>6.38</td>\n",
       "      <td>581.25</td>\n",
       "      <td>27.394640</td>\n",
       "      <td>#5CCB60</td>\n",
       "      <td>Bon</td>\n",
       "      <td>réelle</td>\n",
       "    </tr>\n",
       "    <tr>\n",
       "      <td>2</td>\n",
       "      <td>7481</td>\n",
       "      <td>2017-12-03</td>\n",
       "      <td>102920.00</td>\n",
       "      <td>102.50</td>\n",
       "      <td>2.38</td>\n",
       "      <td>0.00</td>\n",
       "      <td>99878.75</td>\n",
       "      <td>268.41</td>\n",
       "      <td>272.02</td>\n",
       "      <td>4.75</td>\n",
       "      <td>267.50</td>\n",
       "      <td>76.50</td>\n",
       "      <td>10125.00</td>\n",
       "      <td>6.75</td>\n",
       "      <td>450.00</td>\n",
       "      <td>33.617769</td>\n",
       "      <td>#99E600</td>\n",
       "      <td>Bon</td>\n",
       "      <td>réelle</td>\n",
       "    </tr>\n",
       "    <tr>\n",
       "      <td>3</td>\n",
       "      <td>7481</td>\n",
       "      <td>2017-12-04</td>\n",
       "      <td>103556.25</td>\n",
       "      <td>73.75</td>\n",
       "      <td>1.62</td>\n",
       "      <td>-0.03</td>\n",
       "      <td>100521.25</td>\n",
       "      <td>271.06</td>\n",
       "      <td>274.09</td>\n",
       "      <td>0.88</td>\n",
       "      <td>41.25</td>\n",
       "      <td>80.25</td>\n",
       "      <td>8560.00</td>\n",
       "      <td>7.88</td>\n",
       "      <td>200.00</td>\n",
       "      <td>64.084506</td>\n",
       "      <td>#FFD100</td>\n",
       "      <td>Médiocre</td>\n",
       "      <td>réelle</td>\n",
       "    </tr>\n",
       "    <tr>\n",
       "      <td>4</td>\n",
       "      <td>7481</td>\n",
       "      <td>2017-12-05</td>\n",
       "      <td>103895.00</td>\n",
       "      <td>12.50</td>\n",
       "      <td>3.75</td>\n",
       "      <td>-0.04</td>\n",
       "      <td>100865.00</td>\n",
       "      <td>273.86</td>\n",
       "      <td>275.44</td>\n",
       "      <td>1.45</td>\n",
       "      <td>71.25</td>\n",
       "      <td>89.38</td>\n",
       "      <td>4777.50</td>\n",
       "      <td>8.00</td>\n",
       "      <td>115.00</td>\n",
       "      <td>63.967022</td>\n",
       "      <td>#FFD100</td>\n",
       "      <td>Médiocre</td>\n",
       "      <td>réelle</td>\n",
       "    </tr>\n",
       "    <tr>\n",
       "      <td>...</td>\n",
       "      <td>...</td>\n",
       "      <td>...</td>\n",
       "      <td>...</td>\n",
       "      <td>...</td>\n",
       "      <td>...</td>\n",
       "      <td>...</td>\n",
       "      <td>...</td>\n",
       "      <td>...</td>\n",
       "      <td>...</td>\n",
       "      <td>...</td>\n",
       "      <td>...</td>\n",
       "      <td>...</td>\n",
       "      <td>...</td>\n",
       "      <td>...</td>\n",
       "      <td>...</td>\n",
       "      <td>...</td>\n",
       "      <td>...</td>\n",
       "      <td>...</td>\n",
       "      <td>...</td>\n",
       "    </tr>\n",
       "    <tr>\n",
       "      <td>663</td>\n",
       "      <td>7481</td>\n",
       "      <td>2019-11-24</td>\n",
       "      <td>100710.00</td>\n",
       "      <td>130.00</td>\n",
       "      <td>2.75</td>\n",
       "      <td>0.57</td>\n",
       "      <td>97846.25</td>\n",
       "      <td>281.20</td>\n",
       "      <td>282.10</td>\n",
       "      <td>1.86</td>\n",
       "      <td>240.00</td>\n",
       "      <td>94.12</td>\n",
       "      <td>18043.75</td>\n",
       "      <td>7.88</td>\n",
       "      <td>426.00</td>\n",
       "      <td>21.133495</td>\n",
       "      <td>#5CCB60</td>\n",
       "      <td>Bon</td>\n",
       "      <td>réelle</td>\n",
       "    </tr>\n",
       "    <tr>\n",
       "      <td>664</td>\n",
       "      <td>7481</td>\n",
       "      <td>2019-11-25</td>\n",
       "      <td>101101.25</td>\n",
       "      <td>22.50</td>\n",
       "      <td>3.25</td>\n",
       "      <td>-0.03</td>\n",
       "      <td>98217.50</td>\n",
       "      <td>279.88</td>\n",
       "      <td>281.51</td>\n",
       "      <td>1.86</td>\n",
       "      <td>138.75</td>\n",
       "      <td>89.50</td>\n",
       "      <td>14696.25</td>\n",
       "      <td>5.62</td>\n",
       "      <td>1285.71</td>\n",
       "      <td>40.146856</td>\n",
       "      <td>#C3F000</td>\n",
       "      <td>Bon</td>\n",
       "      <td>réelle</td>\n",
       "    </tr>\n",
       "    <tr>\n",
       "      <td>665</td>\n",
       "      <td>7481</td>\n",
       "      <td>2019-11-26</td>\n",
       "      <td>100858.75</td>\n",
       "      <td>-108.75</td>\n",
       "      <td>6.75</td>\n",
       "      <td>0.00</td>\n",
       "      <td>97996.25</td>\n",
       "      <td>279.73</td>\n",
       "      <td>282.89</td>\n",
       "      <td>3.54</td>\n",
       "      <td>176.25</td>\n",
       "      <td>81.62</td>\n",
       "      <td>21375.00</td>\n",
       "      <td>3.50</td>\n",
       "      <td>3685.71</td>\n",
       "      <td>47.810375</td>\n",
       "      <td>#C3F000</td>\n",
       "      <td>Bon</td>\n",
       "      <td>réelle</td>\n",
       "    </tr>\n",
       "    <tr>\n",
       "      <td>666</td>\n",
       "      <td>7481</td>\n",
       "      <td>2019-11-27</td>\n",
       "      <td>100255.00</td>\n",
       "      <td>26.25</td>\n",
       "      <td>4.00</td>\n",
       "      <td>2.00</td>\n",
       "      <td>97442.50</td>\n",
       "      <td>280.95</td>\n",
       "      <td>285.88</td>\n",
       "      <td>6.42</td>\n",
       "      <td>177.50</td>\n",
       "      <td>72.75</td>\n",
       "      <td>40750.00</td>\n",
       "      <td>4.12</td>\n",
       "      <td>1916.67</td>\n",
       "      <td>28.652515</td>\n",
       "      <td>#5CCB60</td>\n",
       "      <td>Bon</td>\n",
       "      <td>réelle</td>\n",
       "    </tr>\n",
       "    <tr>\n",
       "      <td>667</td>\n",
       "      <td>7481</td>\n",
       "      <td>2019-11-28</td>\n",
       "      <td>100700.00</td>\n",
       "      <td>58.75</td>\n",
       "      <td>2.62</td>\n",
       "      <td>0.30</td>\n",
       "      <td>97861.25</td>\n",
       "      <td>279.70</td>\n",
       "      <td>284.68</td>\n",
       "      <td>4.51</td>\n",
       "      <td>188.75</td>\n",
       "      <td>71.88</td>\n",
       "      <td>47500.00</td>\n",
       "      <td>5.25</td>\n",
       "      <td>1443.75</td>\n",
       "      <td>26.615948</td>\n",
       "      <td>#5CCB60</td>\n",
       "      <td>Bon</td>\n",
       "      <td>réelle</td>\n",
       "    </tr>\n",
       "  </tbody>\n",
       "</table>\n",
       "<p>668 rows × 19 columns</p>\n",
       "</div>"
      ],
      "text/plain": [
       "     insee       date       pmer    tend  cod_tend   rr6       pres      td  \\\n",
       "0     7481 2017-12-01  101337.50   62.50      3.62  0.12   98366.25  270.84   \n",
       "1     7481 2017-12-02  101936.25   76.25      2.38  0.00   98938.75  269.79   \n",
       "2     7481 2017-12-03  102920.00  102.50      2.38  0.00   99878.75  268.41   \n",
       "3     7481 2017-12-04  103556.25   73.75      1.62 -0.03  100521.25  271.06   \n",
       "4     7481 2017-12-05  103895.00   12.50      3.75 -0.04  100865.00  273.86   \n",
       "..     ...        ...        ...     ...       ...   ...        ...     ...   \n",
       "663   7481 2019-11-24  100710.00  130.00      2.75  0.57   97846.25  281.20   \n",
       "664   7481 2019-11-25  101101.25   22.50      3.25 -0.03   98217.50  279.88   \n",
       "665   7481 2019-11-26  100858.75 -108.75      6.75  0.00   97996.25  279.73   \n",
       "666   7481 2019-11-27  100255.00   26.25      4.00  2.00   97442.50  280.95   \n",
       "667   7481 2019-11-28  100700.00   58.75      2.62  0.30   97861.25  279.70   \n",
       "\n",
       "          t    ff      dd      u        vv  nbas     hbas     valeur  \\\n",
       "0    273.99  4.12  295.00  79.62  22373.75  5.62   537.50  24.870858   \n",
       "1    273.26  6.84  347.50  77.62  13086.25  6.38   581.25  27.394640   \n",
       "2    272.02  4.75  267.50  76.50  10125.00  6.75   450.00  33.617769   \n",
       "3    274.09  0.88   41.25  80.25   8560.00  7.88   200.00  64.084506   \n",
       "4    275.44  1.45   71.25  89.38   4777.50  8.00   115.00  63.967022   \n",
       "..      ...   ...     ...    ...       ...   ...      ...        ...   \n",
       "663  282.10  1.86  240.00  94.12  18043.75  7.88   426.00  21.133495   \n",
       "664  281.51  1.86  138.75  89.50  14696.25  5.62  1285.71  40.146856   \n",
       "665  282.89  3.54  176.25  81.62  21375.00  3.50  3685.71  47.810375   \n",
       "666  285.88  6.42  177.50  72.75  40750.00  4.12  1916.67  28.652515   \n",
       "667  284.68  4.51  188.75  71.88  47500.00  5.25  1443.75  26.615948   \n",
       "\n",
       "    couleur_html qualificatif type_valeur  \n",
       "0        #5CCB60          Bon      réelle  \n",
       "1        #5CCB60          Bon      réelle  \n",
       "2        #99E600          Bon      réelle  \n",
       "3        #FFD100     Médiocre      réelle  \n",
       "4        #FFD100     Médiocre      réelle  \n",
       "..           ...          ...         ...  \n",
       "663      #5CCB60          Bon      réelle  \n",
       "664      #C3F000          Bon      réelle  \n",
       "665      #C3F000          Bon      réelle  \n",
       "666      #5CCB60          Bon      réelle  \n",
       "667      #5CCB60          Bon      réelle  \n",
       "\n",
       "[668 rows x 19 columns]"
      ]
     },
     "execution_count": 217,
     "metadata": {},
     "output_type": "execute_result"
    }
   ],
   "source": [
    "data=pd.read_json (r'dataFinale.json')\n",
    "data"
   ]
  },
  {
   "cell_type": "code",
   "execution_count": 218,
   "metadata": {},
   "outputs": [],
   "source": [
    "data= data.drop(['insee','date','couleur_html','type_valeur'],axis=1)"
   ]
  },
  {
   "cell_type": "code",
   "execution_count": 219,
   "metadata": {},
   "outputs": [
    {
     "data": {
      "text/html": [
       "<div>\n",
       "<style scoped>\n",
       "    .dataframe tbody tr th:only-of-type {\n",
       "        vertical-align: middle;\n",
       "    }\n",
       "\n",
       "    .dataframe tbody tr th {\n",
       "        vertical-align: top;\n",
       "    }\n",
       "\n",
       "    .dataframe thead th {\n",
       "        text-align: right;\n",
       "    }\n",
       "</style>\n",
       "<table border=\"1\" class=\"dataframe\">\n",
       "  <thead>\n",
       "    <tr style=\"text-align: right;\">\n",
       "      <th></th>\n",
       "      <th>pmer</th>\n",
       "      <th>tend</th>\n",
       "      <th>cod_tend</th>\n",
       "      <th>rr6</th>\n",
       "      <th>pres</th>\n",
       "      <th>td</th>\n",
       "      <th>t</th>\n",
       "      <th>ff</th>\n",
       "      <th>dd</th>\n",
       "      <th>u</th>\n",
       "      <th>vv</th>\n",
       "      <th>nbas</th>\n",
       "      <th>hbas</th>\n",
       "      <th>valeur</th>\n",
       "      <th>qualificatif</th>\n",
       "    </tr>\n",
       "  </thead>\n",
       "  <tbody>\n",
       "    <tr>\n",
       "      <td>0</td>\n",
       "      <td>101337.50</td>\n",
       "      <td>62.50</td>\n",
       "      <td>3.62</td>\n",
       "      <td>0.12</td>\n",
       "      <td>98366.25</td>\n",
       "      <td>270.84</td>\n",
       "      <td>273.99</td>\n",
       "      <td>4.12</td>\n",
       "      <td>295.00</td>\n",
       "      <td>79.62</td>\n",
       "      <td>22373.75</td>\n",
       "      <td>5.62</td>\n",
       "      <td>537.50</td>\n",
       "      <td>24.870858</td>\n",
       "      <td>Bon</td>\n",
       "    </tr>\n",
       "    <tr>\n",
       "      <td>1</td>\n",
       "      <td>101936.25</td>\n",
       "      <td>76.25</td>\n",
       "      <td>2.38</td>\n",
       "      <td>0.00</td>\n",
       "      <td>98938.75</td>\n",
       "      <td>269.79</td>\n",
       "      <td>273.26</td>\n",
       "      <td>6.84</td>\n",
       "      <td>347.50</td>\n",
       "      <td>77.62</td>\n",
       "      <td>13086.25</td>\n",
       "      <td>6.38</td>\n",
       "      <td>581.25</td>\n",
       "      <td>27.394640</td>\n",
       "      <td>Bon</td>\n",
       "    </tr>\n",
       "    <tr>\n",
       "      <td>2</td>\n",
       "      <td>102920.00</td>\n",
       "      <td>102.50</td>\n",
       "      <td>2.38</td>\n",
       "      <td>0.00</td>\n",
       "      <td>99878.75</td>\n",
       "      <td>268.41</td>\n",
       "      <td>272.02</td>\n",
       "      <td>4.75</td>\n",
       "      <td>267.50</td>\n",
       "      <td>76.50</td>\n",
       "      <td>10125.00</td>\n",
       "      <td>6.75</td>\n",
       "      <td>450.00</td>\n",
       "      <td>33.617769</td>\n",
       "      <td>Bon</td>\n",
       "    </tr>\n",
       "    <tr>\n",
       "      <td>3</td>\n",
       "      <td>103556.25</td>\n",
       "      <td>73.75</td>\n",
       "      <td>1.62</td>\n",
       "      <td>-0.03</td>\n",
       "      <td>100521.25</td>\n",
       "      <td>271.06</td>\n",
       "      <td>274.09</td>\n",
       "      <td>0.88</td>\n",
       "      <td>41.25</td>\n",
       "      <td>80.25</td>\n",
       "      <td>8560.00</td>\n",
       "      <td>7.88</td>\n",
       "      <td>200.00</td>\n",
       "      <td>64.084506</td>\n",
       "      <td>Médiocre</td>\n",
       "    </tr>\n",
       "    <tr>\n",
       "      <td>4</td>\n",
       "      <td>103895.00</td>\n",
       "      <td>12.50</td>\n",
       "      <td>3.75</td>\n",
       "      <td>-0.04</td>\n",
       "      <td>100865.00</td>\n",
       "      <td>273.86</td>\n",
       "      <td>275.44</td>\n",
       "      <td>1.45</td>\n",
       "      <td>71.25</td>\n",
       "      <td>89.38</td>\n",
       "      <td>4777.50</td>\n",
       "      <td>8.00</td>\n",
       "      <td>115.00</td>\n",
       "      <td>63.967022</td>\n",
       "      <td>Médiocre</td>\n",
       "    </tr>\n",
       "    <tr>\n",
       "      <td>...</td>\n",
       "      <td>...</td>\n",
       "      <td>...</td>\n",
       "      <td>...</td>\n",
       "      <td>...</td>\n",
       "      <td>...</td>\n",
       "      <td>...</td>\n",
       "      <td>...</td>\n",
       "      <td>...</td>\n",
       "      <td>...</td>\n",
       "      <td>...</td>\n",
       "      <td>...</td>\n",
       "      <td>...</td>\n",
       "      <td>...</td>\n",
       "      <td>...</td>\n",
       "      <td>...</td>\n",
       "    </tr>\n",
       "    <tr>\n",
       "      <td>663</td>\n",
       "      <td>100710.00</td>\n",
       "      <td>130.00</td>\n",
       "      <td>2.75</td>\n",
       "      <td>0.57</td>\n",
       "      <td>97846.25</td>\n",
       "      <td>281.20</td>\n",
       "      <td>282.10</td>\n",
       "      <td>1.86</td>\n",
       "      <td>240.00</td>\n",
       "      <td>94.12</td>\n",
       "      <td>18043.75</td>\n",
       "      <td>7.88</td>\n",
       "      <td>426.00</td>\n",
       "      <td>21.133495</td>\n",
       "      <td>Bon</td>\n",
       "    </tr>\n",
       "    <tr>\n",
       "      <td>664</td>\n",
       "      <td>101101.25</td>\n",
       "      <td>22.50</td>\n",
       "      <td>3.25</td>\n",
       "      <td>-0.03</td>\n",
       "      <td>98217.50</td>\n",
       "      <td>279.88</td>\n",
       "      <td>281.51</td>\n",
       "      <td>1.86</td>\n",
       "      <td>138.75</td>\n",
       "      <td>89.50</td>\n",
       "      <td>14696.25</td>\n",
       "      <td>5.62</td>\n",
       "      <td>1285.71</td>\n",
       "      <td>40.146856</td>\n",
       "      <td>Bon</td>\n",
       "    </tr>\n",
       "    <tr>\n",
       "      <td>665</td>\n",
       "      <td>100858.75</td>\n",
       "      <td>-108.75</td>\n",
       "      <td>6.75</td>\n",
       "      <td>0.00</td>\n",
       "      <td>97996.25</td>\n",
       "      <td>279.73</td>\n",
       "      <td>282.89</td>\n",
       "      <td>3.54</td>\n",
       "      <td>176.25</td>\n",
       "      <td>81.62</td>\n",
       "      <td>21375.00</td>\n",
       "      <td>3.50</td>\n",
       "      <td>3685.71</td>\n",
       "      <td>47.810375</td>\n",
       "      <td>Bon</td>\n",
       "    </tr>\n",
       "    <tr>\n",
       "      <td>666</td>\n",
       "      <td>100255.00</td>\n",
       "      <td>26.25</td>\n",
       "      <td>4.00</td>\n",
       "      <td>2.00</td>\n",
       "      <td>97442.50</td>\n",
       "      <td>280.95</td>\n",
       "      <td>285.88</td>\n",
       "      <td>6.42</td>\n",
       "      <td>177.50</td>\n",
       "      <td>72.75</td>\n",
       "      <td>40750.00</td>\n",
       "      <td>4.12</td>\n",
       "      <td>1916.67</td>\n",
       "      <td>28.652515</td>\n",
       "      <td>Bon</td>\n",
       "    </tr>\n",
       "    <tr>\n",
       "      <td>667</td>\n",
       "      <td>100700.00</td>\n",
       "      <td>58.75</td>\n",
       "      <td>2.62</td>\n",
       "      <td>0.30</td>\n",
       "      <td>97861.25</td>\n",
       "      <td>279.70</td>\n",
       "      <td>284.68</td>\n",
       "      <td>4.51</td>\n",
       "      <td>188.75</td>\n",
       "      <td>71.88</td>\n",
       "      <td>47500.00</td>\n",
       "      <td>5.25</td>\n",
       "      <td>1443.75</td>\n",
       "      <td>26.615948</td>\n",
       "      <td>Bon</td>\n",
       "    </tr>\n",
       "  </tbody>\n",
       "</table>\n",
       "<p>668 rows × 15 columns</p>\n",
       "</div>"
      ],
      "text/plain": [
       "          pmer    tend  cod_tend   rr6       pres      td       t    ff  \\\n",
       "0    101337.50   62.50      3.62  0.12   98366.25  270.84  273.99  4.12   \n",
       "1    101936.25   76.25      2.38  0.00   98938.75  269.79  273.26  6.84   \n",
       "2    102920.00  102.50      2.38  0.00   99878.75  268.41  272.02  4.75   \n",
       "3    103556.25   73.75      1.62 -0.03  100521.25  271.06  274.09  0.88   \n",
       "4    103895.00   12.50      3.75 -0.04  100865.00  273.86  275.44  1.45   \n",
       "..         ...     ...       ...   ...        ...     ...     ...   ...   \n",
       "663  100710.00  130.00      2.75  0.57   97846.25  281.20  282.10  1.86   \n",
       "664  101101.25   22.50      3.25 -0.03   98217.50  279.88  281.51  1.86   \n",
       "665  100858.75 -108.75      6.75  0.00   97996.25  279.73  282.89  3.54   \n",
       "666  100255.00   26.25      4.00  2.00   97442.50  280.95  285.88  6.42   \n",
       "667  100700.00   58.75      2.62  0.30   97861.25  279.70  284.68  4.51   \n",
       "\n",
       "         dd      u        vv  nbas     hbas     valeur qualificatif  \n",
       "0    295.00  79.62  22373.75  5.62   537.50  24.870858          Bon  \n",
       "1    347.50  77.62  13086.25  6.38   581.25  27.394640          Bon  \n",
       "2    267.50  76.50  10125.00  6.75   450.00  33.617769          Bon  \n",
       "3     41.25  80.25   8560.00  7.88   200.00  64.084506     Médiocre  \n",
       "4     71.25  89.38   4777.50  8.00   115.00  63.967022     Médiocre  \n",
       "..      ...    ...       ...   ...      ...        ...          ...  \n",
       "663  240.00  94.12  18043.75  7.88   426.00  21.133495          Bon  \n",
       "664  138.75  89.50  14696.25  5.62  1285.71  40.146856          Bon  \n",
       "665  176.25  81.62  21375.00  3.50  3685.71  47.810375          Bon  \n",
       "666  177.50  72.75  40750.00  4.12  1916.67  28.652515          Bon  \n",
       "667  188.75  71.88  47500.00  5.25  1443.75  26.615948          Bon  \n",
       "\n",
       "[668 rows x 15 columns]"
      ]
     },
     "execution_count": 219,
     "metadata": {},
     "output_type": "execute_result"
    }
   ],
   "source": [
    "data"
   ]
  },
  {
   "cell_type": "code",
   "execution_count": 220,
   "metadata": {},
   "outputs": [],
   "source": [
    "np_data=data.values"
   ]
  },
  {
   "cell_type": "code",
   "execution_count": 221,
   "metadata": {
    "scrolled": false
   },
   "outputs": [
    {
     "data": {
      "text/plain": [
       "array([[101337.5, 62.5, 3.62, ..., 537.5, 24.8708578227185, 'Bon'],\n",
       "       [101936.25, 76.25, 2.38, ..., 581.25, 27.3946401806441, 'Bon'],\n",
       "       [102920.0, 102.5, 2.38, ..., 450.0, 33.6177691546218, 'Bon'],\n",
       "       ...,\n",
       "       [100858.75, -108.75, 6.75, ..., 3685.71, 47.8103751284996, 'Bon'],\n",
       "       [100255.0, 26.25, 4.0, ..., 1916.67, 28.6525148563387, 'Bon'],\n",
       "       [100700.0, 58.75, 2.62, ..., 1443.75, 26.6159478380189, 'Bon']],\n",
       "      dtype=object)"
      ]
     },
     "execution_count": 221,
     "metadata": {},
     "output_type": "execute_result"
    }
   ],
   "source": [
    "test=np_data\n",
    "test"
   ]
  },
  {
   "cell_type": "code",
   "execution_count": 222,
   "metadata": {
    "scrolled": true
   },
   "outputs": [
    {
     "data": {
      "text/plain": [
       "(668, 15)"
      ]
     },
     "execution_count": 222,
     "metadata": {},
     "output_type": "execute_result"
    }
   ], #attribution 0,1
   "source": [
    "for i in range(len(test[:,14])):\n",
    "    if test[:,14][i]=='Bon':\n",
    "        test[:,14][i] = 1\n",
    "    if test[:,14][i]=='Très bon':\n",
    "        test[:,14][i] = 1\n",
    "    if test[:,14][i]=='Moyen':\n",
    "        test[:,14][i] = 0\n",
    "    if test[:,14][i]=='Médiocre':\n",
    "        test[:,14][i] = 0\n",
    "    if test[:,14][i]=='Mauvais':\n",
    "        test[:,14][i] = 0\n",
    "test.shape"
   ]
  },
  {
   "cell_type": "code",
   "execution_count": 223,
   "metadata": {
    "scrolled": true
   },
   "outputs": [
    {
     "data": {
      "text/plain": [
       "(668, 15)"
      ]
     },
     "execution_count": 223,
     "metadata": {},
     "output_type": "execute_result"
    }
   ],
   "source": [
    "test=test.astype('float')\n",
    "test.shape"
   ]
  },
  {
   "cell_type": "code",
   "execution_count": 224,
   "metadata": {},
   "outputs": [
    {
     "data": {
      "text/plain": [
       "(629, 15)"
      ]
     },
     "execution_count": 224,
     "metadata": {},
     "output_type": "execute_result"
    }
   ],
   "source": [
    "test=test[~np.isnan(test).any(axis=1)]\n",
    "test.shape"
   ]
  },
  {
   "cell_type": "code",
   "execution_count": 225,
   "metadata": {},
   "outputs": [
    {
     "data": {
      "text/plain": [
       "(array([185.,   0.,   0.,   0.,   0.,   0.,   0.,   0.,   0., 444.]),\n",
       " array([0. , 0.1, 0.2, 0.3, 0.4, 0.5, 0.6, 0.7, 0.8, 0.9, 1. ]),\n",
       " <a list of 10 Patch objects>)"
      ]
     },
     "execution_count": 225,
     "metadata": {},
     "output_type": "execute_result"
    },
    {
     "data": {
      "image/png": "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\n",
      "text/plain": [
       "<Figure size 432x288 with 1 Axes>"
      ]
     },
     "metadata": {
      "needs_background": "light"
     },
     "output_type": "display_data"
    }
   ],
   "source": [
    "plt.hist(test[:,14])"
   ]
  },
  {
   "cell_type": "code",
   "execution_count": 226,
   "metadata": {},
   "outputs": [],
   "source": [
    "target=np.copy(test[:,14])\n",
    "carac=np.delete(test,[14],1)"
   ]
  },
  {
   "cell_type": "code",
   "execution_count": 227,
   "metadata": {},
   "outputs": [
    {
     "data": {
      "text/plain": [
       "(array([185.,   0.,   0.,   0.,   0.,   0.,   0.,   0.,   0., 444.]),\n",
       " array([0. , 0.1, 0.2, 0.3, 0.4, 0.5, 0.6, 0.7, 0.8, 0.9, 1. ]),\n",
       " <a list of 10 Patch objects>)"
      ]
     },
     "execution_count": 227,
     "metadata": {},
     "output_type": "execute_result"
    },
    {
     "data": {
      "image/png": "iVBORw0KGgoAAAANSUhEUgAAAXcAAAD4CAYAAAAXUaZHAAAABHNCSVQICAgIfAhkiAAAAAlwSFlzAAALEgAACxIB0t1+/AAAADh0RVh0U29mdHdhcmUAbWF0cGxvdGxpYiB2ZXJzaW9uMy4xLjEsIGh0dHA6Ly9tYXRwbG90bGliLm9yZy8QZhcZAAANkklEQVR4nO3cf4xl5V3H8fenbAGNLVB2aMju6tB0m0Ca2JINrmmitTSGH4blDzAQK2uzcdOKpgYTRfuHP/8AE4shIdWNkC6NtiAa2VCMQX4EbYQ6CIUCQbaIMIGw0wCrDWkt9usf96EOy8zO2Z177zDPvl/JzT3nOc/c83323v3Mmeeec1JVSJL68o61LkCSNH6GuyR1yHCXpA4Z7pLUIcNdkjq0Ya0LANi4cWPNzs6udRmStK489NBD36qqmaW2vS3CfXZ2lrm5ubUuQ5LWlST/udw2p2UkqUOGuyR1yHCXpA4Z7pLUIcNdkjpkuEtShwx3SeqQ4S5JHTLcJalDb4srVCVpLc1e/ZU12/ez11w4kdf1yF2SOmS4S1KHDHdJ6pDhLkkdMtwlqUOGuyR1yHCXpA4Z7pLUIcNdkjpkuEtShwx3SeqQ4S5JHTLcJalDhrskdchwl6QOGe6S1KHB4Z7kuCQPJ7mjrZ+R5MEkTye5Jcnxrf2Etr6/bZ+dTOmSpOUcyZH7Z4AnF61fC1xXVVuBV4BdrX0X8EpVvR+4rvWTJE3RoHBPshm4EPiLth7gY8Btrcte4OK2vKOt07af2/pLkqZk6JH7nwK/CXy/rZ8KvFpVr7f1eWBTW94EPA/Qth9s/d8kye4kc0nmFhYWjrJ8SdJSVgz3JD8HHKiqhxY3L9G1Bmz7/4aqPVW1raq2zczMDCpWkjTMhgF9PgJclOQC4ETg3YyO5E9OsqEdnW8GXmj954EtwHySDcBJwMtjr1yStKwVj9yr6reranNVzQKXAfdU1S8A9wKXtG47gdvb8r62Ttt+T1W95chdkjQ5qznP/beAq5LsZzSnfmNrvxE4tbVfBVy9uhIlSUdqyLTMD1TVfcB9bfkZ4Jwl+nwHuHQMtUmSjpJXqEpShwx3SeqQ4S5JHTLcJalDhrskdchwl6QOGe6S1CHDXZI6ZLhLUocMd0nqkOEuSR0y3CWpQ4a7JHXIcJekDhnuktQhw12SOmS4S1KHDHdJ6pDhLkkdMtwlqUOGuyR1yHCXpA4Z7pLUIcNdkjpkuEtShwx3SeqQ4S5JHTLcJalDhrskdchwl6QOGe6S1CHDXZI6ZLhLUocMd0nqkOEuSR0y3CWpQ4a7JHXIcJekDq0Y7klOTPK1JF9P8niS32/tZyR5MMnTSW5JcnxrP6Gt72/bZyc7BEnSoYYcuX8X+FhV/TjwIeC8JNuBa4Hrqmor8Aqwq/XfBbxSVe8Hrmv9JElTtGK418i32+o726OAjwG3tfa9wMVteUdbp20/N0nGVrEkaUWD5tyTHJfkEeAAcBfwTeDVqnq9dZkHNrXlTcDzAG37QeDUJV5zd5K5JHMLCwurG4Uk6U0GhXtV/W9VfQjYDJwDnLlUt/a81FF6vaWhak9VbauqbTMzM0PrlSQNcERny1TVq8B9wHbg5CQb2qbNwAtteR7YAtC2nwS8PI5iJUnDDDlbZibJyW35h4CPA08C9wKXtG47gdvb8r62Ttt+T1W95chdkjQ5G1buwunA3iTHMfplcGtV3ZHkCeDLSf4IeBi4sfW/Efhikv2Mjtgvm0DdkqTDWDHcq+pR4MNLtD/DaP790PbvAJeOpTpJ0lHxClVJ6pDhLkkdMtwlqUOGuyR1yHCXpA4Z7pLUIcNdkjpkuEtShwx3SeqQ4S5JHTLcJalDhrskdchwl6QOGe6S1CHDXZI6ZLhLUocMd0nqkOEuSR0y3CWpQ4a7JHXIcJekDhnuktQhw12SOmS4S1KHDHdJ6pDhLkkdMtwlqUOGuyR1yHCXpA4Z7pLUIcNdkjpkuEtShwx3SeqQ4S5JHTLcJalDhrskdchwl6QOrRjuSbYkuTfJk0keT/KZ1v6eJHclebo9n9Lak+T6JPuTPJrk7EkPQpL0ZkOO3F8HfqOqzgS2A1cmOQu4Gri7qrYCd7d1gPOBre2xG/j82KuWJB3WiuFeVS9W1b+15f8GngQ2ATuAva3bXuDitrwDuLlGHgBOTnL62CuXJC3riObck8wCHwYeBN5bVS/C6BcAcFrrtgl4ftGPzbc2SdKUDA73JD8C/A3w61X1X4frukRbLfF6u5PMJZlbWFgYWoYkaYBB4Z7knYyC/S+r6m9b80tvTLe05wOtfR7YsujHNwMvHPqaVbWnqrZV1baZmZmjrV+StIQhZ8sEuBF4sqo+t2jTPmBnW94J3L6o/Yp21sx24OAb0zeSpOnYMKDPR4BfBB5L8khr+x3gGuDWJLuA54BL27Y7gQuA/cBrwCfHWrEkaUUrhntV/TNLz6MDnLtE/wKuXGVdkqRV8ApVSeqQ4S5JHRoy5/62Nnv1V9Zs389ec+Ga7VuSDscjd0nqkOEuSR0y3CWpQ4a7JHXIcJekDhnuktQhw12SOmS4S1KHDHdJ6pDhLkkdMtwlqUOGuyR1yHCXpA4Z7pLUIcNdkjpkuEtShwx3SeqQ4S5JHTLcJalDhrskdchwl6QOGe6S1CHDXZI6ZLhLUocMd0nqkOEuSR0y3CWpQ4a7JHXIcJekDhnuktQhw12SOmS4S1KHDHdJ6pDhLkkdMtwlqUMrhnuSm5IcSPKNRW3vSXJXkqfb8ymtPUmuT7I/yaNJzp5k8ZKkpQ05cv8CcN4hbVcDd1fVVuDutg5wPrC1PXYDnx9PmZKkI7FiuFfV/cDLhzTvAPa25b3AxYvab66RB4CTk5w+rmIlScMc7Zz7e6vqRYD2fFpr3wQ8v6jffGt7iyS7k8wlmVtYWDjKMiRJSxn3F6pZoq2W6lhVe6pqW1Vtm5mZGXMZknRsO9pwf+mN6Zb2fKC1zwNbFvXbDLxw9OVJko7G0Yb7PmBnW94J3L6o/Yp21sx24OAb0zeSpOnZsFKHJF8CPgpsTDIP/C5wDXBrkl3Ac8ClrfudwAXAfuA14JMTqFmStIIVw72qLl9m07lL9C3gytUWJUlaHa9QlaQOGe6S1CHDXZI6ZLhLUocMd0nqkOEuSR0y3CWpQ4a7JHXIcJekDhnuktQhw12SOmS4S1KHDHdJ6pDhLkkdMtwlqUOGuyR1yHCXpA4Z7pLUIcNdkjpkuEtShwx3SeqQ4S5JHTLcJalDhrskdchwl6QOGe6S1CHDXZI6ZLhLUocMd0nqkOEuSR0y3CWpQ4a7JHXIcJekDhnuktQhw12SOmS4S1KHDHdJ6pDhLkkdmki4JzkvyVNJ9ie5ehL7kCQtb+zhnuQ44AbgfOAs4PIkZ417P5Kk5U3iyP0cYH9VPVNV/wN8Gdgxgf1IkpaxYQKvuQl4ftH6PPATh3ZKshvY3Va/neSpo9zfRuBbR/mzq5Jr12KvwBqOeQ055mPDMTfmXLuqMf/YchsmEe5Zoq3e0lC1B9iz6p0lc1W1bbWvs5445mODYz42TGrMk5iWmQe2LFrfDLwwgf1IkpYxiXD/V2BrkjOSHA9cBuybwH4kScsY+7RMVb2e5FeBfwCOA26qqsfHvZ9FVj21sw455mODYz42TGTMqXrLdLgkaZ3zClVJ6pDhLkkdWjfhvtItDZKckOSWtv3BJLPTr3K8Boz5qiRPJHk0yd1Jlj3ndb0YeuuKJJckqSTr/rS5IWNO8vPtvX48yV9Nu8ZxG/DZ/tEk9yZ5uH2+L1iLOsclyU1JDiT5xjLbk+T69u/xaJKzV73TqnrbPxh9MftN4H3A8cDXgbMO6fMrwJ+15cuAW9a67imM+WeAH27Lnz4Wxtz6vQu4H3gA2LbWdU/hfd4KPAyc0tZPW+u6pzDmPcCn2/JZwLNrXfcqx/xTwNnAN5bZfgHw94yuE9oOPLjafa6XI/chtzTYAexty7cB5yZZ6oKq9WLFMVfVvVX1Wlt9gNE1BevZ0FtX/CHwx8B3plnchAwZ8y8DN1TVKwBVdWDKNY7bkDEX8O62fBLr/FqZqrofePkwXXYAN9fIA8DJSU5fzT7XS7gvdUuDTcv1qarXgYPAqVOpbjKGjHmxXYx+869nK445yYeBLVV1xzQLm6Ah7/MHgA8k+WqSB5KcN7XqJmPImH8P+ESSeeBO4NemU9qaOdL/7yuaxO0HJmHILQ0G3fZgHRk8niSfALYBPz3RiibvsGNO8g7gOuCXplXQFAx5nzcwmpr5KKO/zv4pyQer6tUJ1zYpQ8Z8OfCFqvqTJD8JfLGN+fuTL29NjD2/1suR+5BbGvygT5INjP6UO9yfQW93g27jkOTjwGeBi6rqu1OqbVJWGvO7gA8C9yV5ltHc5L51/qXq0M/27VX1var6D+ApRmG/Xg0Z8y7gVoCq+hfgREY3FevV2G/bsl7CfcgtDfYBO9vyJcA91b6pWKdWHHObovhzRsG+3udhYYUxV9XBqtpYVbNVNcvoe4aLqmpubcodiyGf7b9j9OU5STYymqZ5ZqpVjteQMT8HnAuQ5ExG4b4w1Sqnax9wRTtrZjtwsKpeXNUrrvW3yEfwbfMFwL8z+pb9s63tDxj954bRm//XwH7ga8D71rrmKYz5H4GXgEfaY99a1zzpMR/S9z7W+dkyA9/nAJ8DngAeAy5b65qnMOazgK8yOpPmEeBn17rmVY73S8CLwPcYHaXvAj4FfGrRe3xD+/d4bByfa28/IEkdWi/TMpKkI2C4S1KHDHdJ6pDhLkkdMtwlqUOGuyR1yHCXpA79H1AyoUugU5URAAAAAElFTkSuQmCC\n",
      "text/plain": [
       "<Figure size 432x288 with 1 Axes>"
      ]
     },
     "metadata": {
      "needs_background": "light"
     },
     "output_type": "display_data"
    }
   ],
   "source": [
    "plt.hist(target)"
   ]
  },
  {
   "cell_type": "code",
   "execution_count": 228,
   "metadata": {},
   "outputs": [
    {
     "data": {
      "text/plain": [
       "(629, 14)"
      ]
     },
     "execution_count": 228,
     "metadata": {},
     "output_type": "execute_result"
    }
   ],
   "source": [
    "carac.shape"
   ]
  },
  {
   "cell_type": "code",
   "execution_count": 229,
   "metadata": {},
   "outputs": [],
   "source": [
    "from sklearn.model_selection import train_test_split \n",
    "from sklearn.tree import DecisionTreeClassifier\n",
    "X_train, X_test, y_train, y_test  = train_test_split(carac,target , test_size = 0.15, random_state=1)"
   ]
  },
  {
   "cell_type": "markdown",
   "metadata": {},
   "source": [
    "# KNN"
   ]
  },
  {
   "cell_type": "code",
   "execution_count": 230,
   "metadata": {},
   "outputs": [],
   "source": [
    "from sklearn.neighbors import KNeighborsClassifier\n",
    "KNN = KNeighborsClassifier(n_neighbors=5)\n",
    "KNN.fit(X_train,y_train)\n",
    "y_pred2 = KNN.predict(X_test)"
   ]
  },
  {
   "cell_type": "code",
   "execution_count": 231,
   "metadata": {},
   "outputs": [
    {
     "name": "stdout",
     "output_type": "stream",
     "text": [
      "KNN accuracy_score  0.8210526315789474\n",
      "KNN precision  0.8552631578947368\n",
      "KNN recall  0.9154929577464789\n"
     ]
    }
   ],
   "source": [
    "print(\"KNN accuracy_score \"  ,accuracy_score(y_test, y_pred2))\n",
    "print(\"KNN precision \" , precision_score(y_test, y_pred2))\n",
    "print(\"KNN recall \" ,recall_score(y_test, y_pred2))"
   ]
  },
  {
   "cell_type": "markdown",
   "metadata": {},
   "source": [
    "## Normalisation des Variables"
   ]
  },
  {
   "cell_type": "code",
   "execution_count": 232,
   "metadata": {},
   "outputs": [],
   "source": [
    "from sklearn.preprocessing import StandardScaler\n",
    "scaler = StandardScaler()\n",
    "scaler.fit(X_train)\n",
    "scaled_X_train=scaler.transform(X_train)\n",
    "scaled_X_test = scaler.transform(X_test)"
   ]
  },
  {
   "cell_type": "code",
   "execution_count": 233,
   "metadata": {},
   "outputs": [],
   "source": [
    "KNN = KNeighborsClassifier(n_neighbors=5)\n",
    "KNN.fit(scaled_X_train,y_train)\n",
    "y_pred = KNN.predict(scaled_X_test)"
   ]
  },
  {
   "cell_type": "code",
   "execution_count": 234,
   "metadata": {},
   "outputs": [
    {
     "name": "stdout",
     "output_type": "stream",
     "text": [
      "KNN accuracy_score 'scaled'  0.9263157894736842\n",
      "KNN precision 'scaled'  0.9444444444444444\n",
      "KNN recall 'scaled'  0.9577464788732394\n"
     ]
    }
   ],
   "source": [
    "print(\"KNN accuracy_score 'scaled' \"  ,accuracy_score(y_test, y_pred))\n",
    "print(\"KNN precision 'scaled' \" , precision_score(y_test, y_pred))\n",
    "print(\"KNN recall 'scaled' \" ,recall_score(y_test, y_pred))"
   ]
  },
  {
   "cell_type": "markdown",
   "metadata": {},
   "source": [
    "## ACP"
   ]
  },
  {
   "cell_type": "code",
   "execution_count": 235,
   "metadata": {},
   "outputs": [],
   "source": [
    "from sklearn.decomposition import PCA\n",
    "pca=PCA(n_components=3)\n",
    "pca.fit(scaled_X_train)\n",
    "pca_train = pca.transform(scaled_X_train)\n",
    "pca_test = pca.transform(scaled_X_test)"
   ]
  },
  {
   "cell_type": "code",
   "execution_count": 236,
   "metadata": {},
   "outputs": [],
   "source": [
    "new_X_train = np.hstack((scaled_X_train , pca_train))\n",
    "new_X_test = np.hstack((scaled_X_test , pca_test))"
   ]
  },
  {
   "cell_type": "code",
   "execution_count": 237,
   "metadata": {},
   "outputs": [],
   "source": [
    "KNN = KNeighborsClassifier(n_neighbors=5)\n",
    "KNN.fit(new_X_train,y_train)\n",
    "y_pred = KNN.predict(new_X_test)"
   ]
  },
  {
   "cell_type": "code",
   "execution_count": 238,
   "metadata": {},
   "outputs": [
    {
     "name": "stdout",
     "output_type": "stream",
     "text": [
      "KNN accuracy_score 'scaled pca'  0.9263157894736842\n",
      "KNN precision 'scaled pca'  0.9444444444444444\n",
      "KNN recall 'scaled pca'  0.9577464788732394\n"
     ]
    }
   ],
   "source": [
    "print(\"KNN accuracy_score 'scaled pca' \"  ,accuracy_score(y_test, y_pred))\n",
    "print(\"KNN precision 'scaled pca' \" , precision_score(y_test, y_pred))\n",
    "print(\"KNN recall 'scaled pca' \" ,recall_score(y_test, y_pred))"
   ]
  },
  {
   "cell_type": "markdown",
   "metadata": {},
   "source": [
    "## Selection de Variables"
   ]
  },
  {
   "cell_type": "code",
   "execution_count": 239,
   "metadata": {
    "scrolled": true
   },
   "outputs": [
    {
     "name": "stdout",
     "output_type": "stream",
     "text": [
      "['valeur' 'u' 't' 'hbas' 'nbas' 'ff' 'vv' 'rr6' 'dd' 'td' 'pmer' 'tend'\n",
      " 'pres' 'cod_tend']\n"
     ]
    },
    {
     "data": {
      "image/png": "iVBORw0KGgoAAAANSUhEUgAAAZEAAAEWCAYAAACnlKo3AAAABHNCSVQICAgIfAhkiAAAAAlwSFlzAAALEgAACxIB0t1+/AAAADh0RVh0U29mdHdhcmUAbWF0cGxvdGxpYiB2ZXJzaW9uMy4xLjEsIGh0dHA6Ly9tYXRwbG90bGliLm9yZy8QZhcZAAAfK0lEQVR4nO3deZxcdZnv8c/XsEpCmtUFCS0xuIAYLj0wKEtEL+Io4IxcwiayDIjMiDriXO44SoRBUJwXwghinIssskXcIopBkTYSFu2QsMkqJGwiCUIIq5A888f5NTkpqrurD1116lR9369XvXL289RJUk/9fr9Tz1FEYGZmVsRryg7AzMyqy0nEzMwKcxIxM7PCnETMzKwwJxEzMyvMScTMzApzErGuIWmSpKcljWtg22mSHhpm/XmS/mNsIzSrHicRa0uS5kg6sc7yfSQ9KmmN0R4zIh6IiPERsWJsoixGUkh6S5kxDJK0SNL7y47DqstJxNrVecDHJKlm+ceAiyLipdEcrEjS6WS+HjZWnESsXf0Y2BDYZXCBpA2ADwMXpPkPSVog6SlJD0qakdu2N33jP0LSA8Cvc8vWSNscJukOScsl3SfpE7VBSPo3SUvTN/aDhgpW0oclLZT0pKTrJG3byJuUNEPS9yV9L8Vxq6StJP0/SY+l97VHbvt+SadI+p2kZZJ+ImnD3Pq9Jd2e4uiX9PbcukWS/q+kW4BnJF0CTAJ+mrr5/jVt9/3U2lsmaa6krXPHOE/SWZJ+luK9UdLk3PqtJf1S0l8k/VnSv6Xlr5F0vKQ/Snpc0qx83FZdTiLWliLiOWAWcEhu8X7AnRFxc5p/Jq3vAT4EfFLSR2oOtRvwduADdU7zGFlSWh84DDhd0v/KrX89sDGwGfBxYKakt9YeJO1zLvAJYCPg28BsSWs3+Hb3Ai4ENgAWAHPI/m9uBpyYjpd3CHA48EbgJeDMFMdWwCXAZ4BNgJ+TJYi1cvseQHateiLiAOABYK/Uzfe1tM2VwBRgU+Am4KKa8x8AfDnFey9wcjr/BOBXwC9SbG8Brk77HAt8hOzv443AE8BZDV4fa2cR4ZdfbfkCdgaWAeum+XnAZ4fZ/hvA6Wm6Fwhgy9z6wWVrDLH/j4FPp+lpZB/Q6+XWzwK+mKbPA/4jTX8LOKnmWHcBuw1xngDekqZnAL/MrdsLeBoYl+YnpO170nw/cGpu+3cAfwXGAV8EZuXWvQZ4GJiW5hcBh9fEsgh4/zDXtCedf2Luff93bv3fkSV2yJLLgiGOcwfwvtz8G4AXh/q78Ks6L7dErG1FxLXAEmAfSVsCfwNcPLhe0o6SrpG0RNIy4GiylkPeg0MdX9IHJd2Qul6eJPtAzO//REQ8k5tfTPYtutYWwOdSF9KT6VibD7FtPX/OTT8HLI1Vg//PpT/H57bJv6fFwJop7jemeQAiYmXadrMh9n0FSeMknZq6nZ4iSzKw+nV5NDf9bC62zYE/DnHoLYAf5a7PHcAK4HXDxWPtz0nE2t0FZN03HwOuioj8B+7FwGxg84iYCJwD1A7E1y1TnbqafgB8HXhdRPSQdf/k999A0nq5+UnAI3UO9yBwckT05F6vjYhLGn6Xo7N5TUwvAktTbFsMrkg3JWxO1hoZVHs9aucPBPYB3g9MJGu9wSuvaz0PApOHWffBmmu0TkQ8PMT2VhFOItbuLiD7QDsSOL9m3QTgLxHxvKQdyD4AG7UWsDZZS+clSR8E9qiz3ZclrSVpF7Lxk+/X2eY7wNGpZSRJ66VB/wmjiGc0Dpb0DkmvJRszuTy1XGYBH5L0PklrAp8DXgCuG+ZYfwa2zM1PSPs8DrwW+Moo4roCeL2kz0haW9IESTumdecAJ0vaAkDSJpL2GcWxrU05iVhbi4hFZB+C65G1OvKOAU6UtBz4EtmHaKPHXU422DuLbJD3wDrHfzSte4RscPnoiLizzrEGyJLcN9P29wKHNhpLAReSjU08CqxD9j6IiLuAg4H/ImuZ7EU2aP7XYY51CvDvqZvpOLKkvZis9fIH4IZGg0rX9H+n8z4K3AO8N60+g+z6XpX+vm4Adqx3HKsWRfihVGZVIakf+F5E/HfZsZiBWyJmZvYqOImYmVlh7s4yM7PC3BIxM7PCuq4I28Ybbxy9vb1lh2FmVinz589fGhGb1C7vuiTS29vLwMBA2WGYmVWKpMX1lrs7y8zMCnMSMTOzwpxEzMysMCcRMzMrzEnEzMwKcxIxM7PCnETMzKwwJxEzMyus635s2Aq9x/9stflFp36opEjMzJrLLREzMyvMScTMzApzEjEzs8KamkQkPT3Mul5JB47huaZJumKsjmdmZiMrc2C9FzgQuLjEGMbctGnTePS+x1dfdsNpr9iuv7+/RRGZmTVPQy0RSYdIukXSzZIulLSFpKvTsqslTUrbvVnS9ZJ+L+mkEQ57KrCLpIWSPitpnKTT0r63SPpEOuY0Sf2SLpd0p6SLJCmt2zMtuxb4h2HiP0rSgKSBJUuWNHRhzMxsZCO2RCRtDXwBeE9ELJW0IXA+cEFEnC/pcOBM4CPAGcC3IuICSf80wqGPB46LiA+n8xwFLIuIv5G0NjBP0lVp2+2ArYFHgHnAeyQNAN8BdgfuBS4b6kQRMROYCdDX19fU5wH39/e/4hbfft/ia2YdqpGWyO7A5RGxFCAi/gLsxKpuqAuBndP0e4BLcstHYw/gEEkLgRuBjYApad3vIuKhiFgJLCTrCnsbcH9E3BPZg+K/N8rzmZnZq9TImIiAkb69xxDToyHgUxExZ7WF0jTghdyiFayKu6mtCjMzG14jLZGrgf0kbQSQurOuA/ZP6w8Crk3T82qWD2c5MCE3Pwf4pKQ103m2krTeMPvfCbxZ0uQ0f0AD78XMzMbQiC2RiLhd0snAbyStABYAxwLnSvo8sAQ4LG3+aeBiSZ8GfjDCoW8BXpJ0M3Ae2XhKL3BTGjhfQjbOMlRcz6dxlJ9JWkqWyLYZ6f2YmdnYUTac0D36+vpiYGCg7DDMzCpF0vyI6Ktd7l+sm5lZYU3/saGkd/LKO7VeiIgdm31uMzNrrqYnkYi4FZja7PO0E5eCN7Nu4e4sMzMrzEnEzMwKq0QSkTSu7BjMzOyVSn88rqRe4BdkpU62A+4GDgH+AJxLVg7lm5J+D5wFbAI8CxwZEXdK+j/ACWS/ZF8WEbu2+j0MmjZtGkBDVXzBlXzNrPpKTyLJW4EjImKepHOBY9Ly5yNiZwBJVwNHR8Q9knYEziar6/Ul4AMR8bCknnoHTz9KPApg0qRJTX4rZmbdo/QfG6aWyNyIGCwnvzvZL+KnArtFxGJJ48l+wX5Xbte1I+Ltks4BJgOzgB9GxOrNgBqt+LGh784ys04z1I8N26UlUpvJBuefSX++BngyIl5xq3BEHJ1aJh8CFkqaOlIiMTOzsdEuA+uTJO2Upg9gVUFHACLiKeD+NP6BMu9K05Mj4saI+BKwFNi8hXGbmXW1dkkidwAfl3QLsCHwrTrbHAQckQo23g7sk5afJulWSbcBc4GbWxGwmZm1T3fWyog4umZZb34mIu4H9qzdMSKGfCyumZk1V7skkY7igXQz6xalJ5GIWISfA2JmVkntMiZiZmYVVHpLpBPV/k4E3MVlZp3JLREzMyustCQiqUfSMSNv2dCxetMtvmZm1kJltkR6WFUjy8zMKqjMMZFTgcmSFgK/BB4D9gPWBn4UESekulpXkv2C/d3Aw8A+EfGcpO3Jqvw+S80v3M3MrDXKTCLHA9tExFRJewD7AjsAAmZL2hV4AJgCHBARR0qaBXwU+B7wXeBTEfEbSfVrrbfYUKXgYehy8INcFt7MqqhdBtb3SK8FwE3A28iSB8D9EbEwTc8HeiVNBHoi4jdp+YXDHVzSUZIGJA0sWbJk7KM3M+tS7XKLr4BTIuLbqy3MurNeyC1aAaybtm+4hn1EzARmQlYK/lXGOqTB1kS9W3z7fYuvmXWgMlsiy4EJaXoOcHh6bgiSNpO06VA7RsSTwDJJO6dFBzU1UjMzq6u0lkhEPC5pXro190rgYuB6SQBPAweTtTyGchhwrqRnyZKQmZm1WKndWRFxYM2iM+ps9nJdrYj4em56PvCu3HYzxjQ4MzMbUbuMiXQUlzgxs27RLndnmZlZBTmJmJlZYe7OaoJ6t/iCu7nMrPO4JWJmZoU5iZiZWWFOImZmVljHJRFlOu59mZm1o5YPrKd6WL8AbgS2A+4GDgH+QPar9fcCawJHAacAbwFOi4hz0v6fZ+iS8dcAOwEfARa36C0Bqyr4Qv0qvuBKvmbWecr6xv5WYGZEbAs8xaqHUz0YETsBvwXOIysP/7fAiQCpZPwUspLxU4HtU8n4wWNeEBHbRcRqCcRVfM3MmqOsW3wfjIh5afp7wLFpenb681ZgfEQsB5ZLel5SD6uXjAcYT5ZUHgAWR8QN9U7Wiiq++VbEULf4upKvmXWaspJI7Qf54Pxg2feVrF4CfiVZrMOVjH9mzKM0M7NhldWdNUnSTmn6ABp/vO2oSsabmVlzlZVE7gA+LukWYEPgW43sFBFXsapk/K3A5ax6JomZmbVYWd1ZKyPi6JplvYMTEXEe2cD64Hx+3RmMUDLezMxaw7WzmsA1ssysW7Q8iUTEItxqMDPrCP5lt5mZFeburCZwKXgz6xZuiZiZWWGVSiKSeiQdM8S68yTt2+qYzMy6WaWSCNDDqjpbZmZWsqqNiZwKTJa0EPglsC6wO3A/WUmUUg1W8nUVXzPrFlVriRwP/DEipgLXk1XufSdwJPDuoXZyFV8zs+aoWkskb1fgkohYATwi6ddDbdiKKr6wqiXhKr5m1i2q1hKp1bSEYGZmI6taElnOqoKLc4H9JY2T9AayJyKamVkLVao7KyIelzRP0m1kj8O9h+wBVncDvyk1ODOzLlSpJAIQEQeWHYOZmWUql0SqwOVNzKxbVG1MxMzM2oiTiJmZFeburCYY6nci4K4uM+ssbomYmVlhlUwikmZIOq5mWW+69dfMzFqkkknEzMzaQ2XGRCR9ATgEeBBYAsyXtD1wLvAscG2J4ZmZdaVKJJGULPYHtiOL+SZgPvBd4FMR8RtJw9dZb7LBMvAwdCl4GLkc/CCXhTezKqhKd9YuwI8i4tmIeAqYDawH9ETEYLmTC4fa2aXgzcyaoxItkaS2Yu8zdZbV37EFpeDzLYfhbvF1OXgz6yRVaYnMBf5e0rqSJgB7peXLJO2cpg8qJzQzs+5ViZZIRNwk6TJgIbAY+G1adRhwrqRngTllxWdm1q0qkUQAIuJk4OQ6q96Vm57RmmjMzAwqlESqxKVNzKxbVGVMxMzM2pCTiJmZFeburCYY7hbfQe7yMrNO4JaImZkV5iRiZmaFVTqJKHOypLsl3SHp2LJjMjPrJpUZE5EkQBGxMs2PI6vquznwtohYKWnTMmM0M+s2bZ1EJPUCVwLXADsBUyWdBHwA+BzwSeDAwcQSEY+1Mr585d684ar4vrxvg9V8a7m6r5m1kyp0Z70VuCAitkvzt0XEjhFxLTAZmJ4q9F4paUq9A7iKr5lZc7R1SyRZHBE3pOkVwA9y69YGno+IPkn/QPaAql1qD9CsKr5DtQoaucXX1XzNrBNUoSXyTG76+YhYkZt/iFVJ5UfAti2LyszMKpFEhvNjYPc0vRtwd4mxmJl1nSp0Zw3nVOAiSZ8Fngb+seR4zMy6SlsnkYhYBGyTmx9fs/5JwIMLZmYlaeskUlWui2Vm3aLqYyJmZlYiJxEzMyvM3VlN0MjvRMDdXmZWfW6JmJlZYU4iZmZWmJOImZkVVokxEUlfJauhdXaanwF8AdgnIn6elp0H/DQifjDUcZptsKpvI1V8oVglX1fxNbN2UpWWyKXA9Nz8fmS/Tp8OIGkt4H3Az+vt7Cq+ZmbNoYgxK2rbVJLuIEsUmwBnp+l7gLcAewL7RcRBIx2nr68vBgYGmhmq784ys44jaX5E9NUur0R3VnI5sC/weuDSiHheUj/ZA6qmA5eUGJuZWVeqUhK5FPgOsDFZxd7BZf8I9AGHlhOWmVn3qsqYCBFxOzABeDgi/pQWXwXsCvwqIv5aWnBmZl2qSi0RIuKdNfMvAhuVFI6ZWderVBKpCg+Ym1m3qEx3lpmZtR8nETMzK8zdWU3Q6O9EwF1fZlZtbomYmVlhlU4iko6VdIekSyT9StJCSdNH3tPMzMZC1buzjgE+CLwO+GpETC05HjOzrlLZloikc4AtyYouzgOmppbI5HIjMzPrHpVtiUTE0ZL2BHYBtgGOi4gPlxnTaEvBg8vBm1m1VbYlMhouBW9m1hyVbYmMRkTMBGZCVgq+WecZbCGM5hbfft/ia2YV1hUtETMzaw4nETMzK6zS3VkR0Zsm+9PLzMxaqNJJpF25lImZdQt3Z5mZWWFOImZmVpi7s5pgNLf45rkbzMyqxi0RMzMrzEnEzMwKa7skIqlfUl/ZcZiZ2cjaLomYmVl1lDawLqkXuBK4Fng38DCwT1p9sKQzgfWBwyPid5J2AL4BrAs8BxwWEXdJ2hr4LrAWWVL8aETc04yYB6v0jmQ0VXxXO36Bir6NcuVfM2uGslsiU4CzImJr4Engo2n5ehHxbrKHTp2blt0J7BoR2wFfAr6Slh8NnJEeSNUHPFR7ElfxNTNrjrJv8b0/Iham6flAb5q+BCAi5kpaX1IPMAE4X9IUIIA107bXA1+Q9Cbgh/VaIWNVxbfRb/NFb/F1RV8zq5qyWyIv5KZXsCqp1X7QB3AScE1EbAPsBawDEBEXA3uTdXHNkbR7UyM2M7OXlZ1EhjIdQNLOwLKIWAZMJBs3ATh0cENJWwL3RcSZwGxg29aGambWvdo1iTwh6TrgHOCItOxrwCmS5gHjcttOB26TtBB4G3BBSyM1M+tipY2JRMQismejD85/fYTtrwe2yi36Ylp+CnBKE0I0M7MRlD2w3pFcA8vMukW7dmeZmVkFuCXSBEVv8a3HrRoza2duiZiZWWFOImZmVlhpSURSr6Tb6ix3FV8zs4pwS8TMzAore2B9nKTvUJEqvoNGquZbtIpv3XM1sbJvLVf6NbPRKrsl4iq+ZmYVVnZLpFJVfAeN9I19LG/xdWVfM2tnZbdEXMXXzKzCyk4iQ3EVXzOzCmjXJOIqvmZmFeAqvmZmVljZA+sdyfWuzKxbtGt3lpmZVYCTiJmZFeburCYYy9+J1OPuMjNrF26JmJlZYR2RRCT1SDqm7DjMzLpNRyQRoIeszpaZmbVQpySRU4HJkhZKal3ZWzOzLtcpA+vHA9ukSr6lyJeHH8tS8HXP5fLwZtYmOqUlMiyXgjczaw5FvOrK6KWT1AtckSr8Dquvry8GBgaaGo9v8TWzTiNpfkS84tHlndISWU72vBEzM2uhjkgiEfE4ME/SbR5YNzNrnU4ZWCciDiw7BjOzbtMxSaSdeMzCzLpFR3RnmZlZOZxEzMysMHdnNUGzb/Gt5e4zMyuLWyJmZlaYk4iZmRXmJGJmZoU5iZiZWWGVHlivrZkl6ThgfETMaPa581V7azW7im+tVlb1HYmr/pp1l65oibiKr5lZc1S6JdKoiJgJzISsiu9YHHO4b9ytvsW337f4mllJqt4SeYnV38M6ZQViZtaNqp5E/gxsKmkjSWsDHy47IDOzblLp7qyIeFHSicCNwP3AnSWHZGbWVSqdRAAi4kzgzLLjMDPrRpVPIu3ItazMrFtUfUzEzMxK5JZIE7T6Fl+zqnArvfO4JWJmZoU5iZiZWWFtk0QkPV12DGZmNjptk0TGiiSP85iZtUjTPnAlfRVYHBFnp/kZQAC7AhsAawL/HhE/qbPv54H9gLWBH0XECcNV7JXUD1wHvAeYDfxns96XVdujFx9fdghdrZ0qTnebZlXYbua39kuBbwBnp/n9gD2B0yPiKUkbAzdImh0RLxdFlLQHMAXYARAwW9KuwAMjnK8nInart0LSUcBRAJMmTXoVb8nMzPKalkQiYoGkTSW9EdgEeAL4E3B6Sgorgc2A1wGP5nbdI70WpPnxZEllpCRy2TCxjHkVX6um1x94atkhdDVXnO48zR4/uBzYF3g9WcvkILKEsn2qe7WIV1beFXBKRHx7tYXSmxi+Yu8zYxi3mZk1oNkD65cC+5MlksuBicBjKYG8F9iizj5zgMMljQeQtJmkTXHFXjOzttPUlkhE3C5pAvBwRPxJ0kXATyUNAAupU3U3Iq6S9HbgekkATwMHR8RjrthrZtZemn47bES8Mze9FNhpiO3G56bPAM6os03dir0RMW0sYjUzs9HxbyqawPWBzKxbdNyPDc3MrHWcRMzMrDAnETMzK8xJxMzMCnMSMTOzwpxEzMysMCcRMzMrzEnEzMwKcxIxM7PClHuUR1eQtARY3OTTbAwsbfI5qsTXY3W+Hqvz9Vilna/FFhGxSe3CrksirSBpICL6yo6jXfh6rM7XY3W+HqtU8Vq4O8vMzApzEjEzs8KcRJpjZtkBtBlfj9X5eqzO12OVyl0Lj4mYmVlhbomYmVlhTiJmZlaYk8irIGlPSXdJulfS8XXWry3psrT+Rkm9rY+ydRq4Hv8i6Q+SbpF0taQtyoizVUa6Hrnt9pUUkip1a+doNHItJO2X/n3cLuniVsfYSg38X5kk6RpJC9L/l78rI86GRIRfBV7AOOCPwJbAWsDNwDtqtjkGOCdN7w9cVnbcJV+P9wKvTdOf7PbrkbabAMwFbgD6yo67xH8bU4AFwAZpftOy4y75eswEPpmm3wEsKjvuoV5uiRS3A3BvRNwXEX8FLgX2qdlmH+D8NH058D5JamGMrTTi9YiIayLi2TR7A/CmFsfYSo38+wA4Cfga8Hwrg2uxRq7FkcBZEfEEQEQ81uIYW6mR6xHA+ml6IvBIC+MbFSeR4jYDHszNP5SW1d0mIl4ClgEbtSS61mvkeuQdAVzZ1IjKNeL1kLQdsHlEXNHKwErQyL+NrYCtJM2TdIOkPVsWXes1cj1mAAdLegj4OfCp1oQ2emuUHUCF1WtR1N4v3cg2naLh9yrpYKAP2K2pEZVr2Osh6TXA6cChrQqoRI3821iDrEtrGlkL9beStomIJ5scWxkauR4HAOdFxH9K2gm4MF2Plc0Pb3TcEinuIWDz3PybeGWT8+VtJK1B1iz9S0uia71GrgeS3g98Adg7Il5oUWxlGOl6TAC2AfolLQL+FpjdoYPrjf5f+UlEvBgR9wN3kSWVTtTI9TgCmAUQEdcD65AVZ2w7TiLF/R6YIunNktYiGzifXbPNbODjaXpf4NeRRso60IjXI3XffJssgXRynzeMcD0iYllEbBwRvRHRSzZGtHdEDJQTblM18n/lx2Q3XiBpY7LurftaGmXrNHI9HgDeByDp7WRJZElLo2yQk0hBaYzjn4E5wB3ArIi4XdKJkvZOm/1/YCNJ9wL/Agx5m2fVNXg9TgPGA9+XtFBS7X+cjtHg9egKDV6LOcDjkv4AXAN8PiIeLyfi5mrwenwOOFLSzcAlwKHt+gXUZU/MzKwwt0TMzKwwJxEzMyvMScTMzApzEjEzs8KcRMzMrDAnEesIklak24Zvk/RTST0N7PP0COt7JB2Tm3+jpMvHINZeSbe92uOM8pxT27oSrFWWk4h1iuciYmpEbENWFeCfxuCYPWSVmAGIiEciYt8xOG5LpWoJUwEnERtzTiLWia4nV9BO0ucl/T49l+HLtRtLGp+eb3KTpFslDVZUPRWYnFo4p+VbEOn5MFvnjtEvaXtJ60k6N51vQe5YdUk6VNKPU+vpfkn/nJ67siAVItwwd/xvSLoutbZ2SMs3TPvfkrbfNi2fIWmmpKuAC4ATgenpvUyXtEM61oL051tz8fxQ0i8k3SPpa7lY90zX6GZJV6dlo3q/1oHKrkXvl19j8QKeTn+OA74P7Jnm9yB7NoPIvjRdAexas88awPppemPg3rR9L3Bb7hwvzwOfBb6cpt8A3J2mvwIcnKZ7gLuB9WpizR/n0HS+CcAmZJWej07rTgc+k6b7ge+k6V1z+/8XcEKa3h1YmKZnAPOBdXPn+WYuhvWBNdL0+4Ef5La7j6zO2zrAYrI6T5uQVZ59c9puw0bfr1+d/XIVX+sU60paSPYBPR/4ZVq+R3otSPPjyQr7zc3tK+ArknYFVpK1Yl43wvlmpXOcAOxHlrgGz7e3pOPS/DrAJLLyFkO5JiKWA8slLQN+mpbfCmyb2+4SgIiYK2n9NO6zM/DRtPzXkjaSNDFtPzsinhvinBOB8yVNIasgu2Zu3dURsQwglSHZAtgAmBtZcUQiYrCQaJH3ax3EScQ6xXMRMTV9gF5BNiZyJlmCOCUivj3MvgeRfdPePiJeTFV11xnuZBHxsKTHU/fRdOATaZWAj0bEXaOIPV/NeGVufiWr/x+trVEUDF9W/JlhznkSWfL6e2WPbe4fIp4VKQbVOT8Ue7/WQTwmYh0lfYM+FjhO0ppkRe4OlzQeQNJmkjat2W0i8FhKIO8l++YNsJysm2kolwL/CkyMiFvTsjnAp6TsCZbKKhePlenpmDsDy9J7nUuWBJE0DVgaEU/V2bf2vUwEHk7ThzZw7uuB3SS9OZ1rw7S8me/XKsBJxDpORCwge271/hFxFXAxcL2kW8keU1ybGC4C+iQNkH0g35mO8zgwLw1kn1bnVJeTlfGelVt2ElnX0C1pEP6ksXtnPCHpOuAcsudNQDb20SfpFrIbAT4+xL7XAO8YHFgneyTvKZLmkY0jDSsilgBHAT9MlWUvS6ua+X6tAlzF16wCJPUDx0VnPm/EKswtETMzK8wtETMzK8wtETMzK8xJxMzMCnMSMTOzwpxEzMysMCcRMzMr7H8Ajnaqfmbr4QAAAAAASUVORK5CYII=\n",
      "text/plain": [
       "<Figure size 432x288 with 1 Axes>"
      ]
     },
     "metadata": {
      "needs_background": "light"
     },
     "output_type": "display_data"
    }
   ],
   "source": [
    "from sklearn.ensemble import RandomForestClassifier \n",
    "clf = RandomForestClassifier(n_estimators=100) \n",
    "clf.fit(scaled_X_train, y_train) \n",
    "importances=clf.feature_importances_\n",
    "std = np.std([tree.feature_importances_ for tree in clf.estimators_],axis=0) \n",
    "sorted_idx = np.argsort(importances)[::-1]\n",
    "features = np.asarray(list(data))\n",
    "print(features[sorted_idx])\n",
    "padding = np.arange(scaled_X_train.size/len(scaled_X_train)) + 0.5 \n",
    "plt.barh(padding, importances[sorted_idx],xerr=std[sorted_idx], align='center') \n",
    "plt.yticks(padding, features[sorted_idx])\n",
    "plt.xlabel(\"Relative Importance\")\n",
    "plt.title(\"Variable Importance\")\n",
    "plt.show()"
   ]
  },
  {
   "cell_type": "code",
   "execution_count": 240,
   "metadata": {},
   "outputs": [
    {
     "data": {
      "image/png": "iVBORw0KGgoAAAANSUhEUgAAAYgAAAEWCAYAAAB8LwAVAAAABHNCSVQICAgIfAhkiAAAAAlwSFlzAAALEgAACxIB0t1+/AAAADh0RVh0U29mdHdhcmUAbWF0cGxvdGxpYiB2ZXJzaW9uMy4xLjEsIGh0dHA6Ly9tYXRwbG90bGliLm9yZy8QZhcZAAAgAElEQVR4nO3dd3gc53Xo4d9B7wBBlF32XkAsLcnqsiSKEiliaUsuuY4dx9dO4uQ6N05xrJvY8Y3jKHGqnXbtFMexZTmOS2QnUUyARaSoahWqkAuwV7EsKkkABIh+7h8zS62gBQiS2J0t532efbA7MztzsDu7Z+fMN98nqooxxhgzXpbXARhjjElOliCMMcbEZAnCGGNMTJYgjDHGxGQJwhhjTEyWIIwxxsRkCSKFiIiKyJKrfO6dInJgumOaYFvHReS+RGzraonIIyLyx+79NSJyKkHbfZ+InBSRCyJyfSK26W63SUQ+loDtfFxEno33dq7FlbwWk+3LidxvvJLjdQDpSESOA7XAaNTkR1T1UwmMQYGlqnoYQFWfAZYnavtmQl8GPqWq/xWvDYjIF4ElqvrzkWmq2hCv7aUaey2mzhJE/LxHVZ/wOohUJiI5qjridRzTbD7Q4nUQmUhEBBBVHfM6llRhJaYEEpF8ETkvIvVR06pF5KKI1LiPf1lEDovIWRF5XERmTbCunSLyiajHlw7tReRpd/Jut5Txs+MPh0VkpbuO8yLSIiIPRM17RES+JiKbRKRXRF4UkcWT/F8fFZETItIlIp8fN+9SKcd9POlhuVtG+zUROQQccqetEJFt7mtyQEQ+GLV8oYh8xd1+t4g8KyKF7rx/F5FWd/rTIrJqou1O5jLbn9Jr5b73F4BsnPfliDv9qt8HEVkVFVebiPyeiGwAfg/4Wfe93+0ue2l/EZEsEfm/7mvWLiKPiki5O2+B+x58TETeEJHO8e/puP9rpruf9ojIS8DicfMne+2CIrLX/d9Oi8hDE7xuE35mRGSGiPxERDpE5Jx7f07UsjtF5Esi8hzQDywa91osFpEd7r7bKSLfFZGKcWHc5MZ5TkS+JSIFE7wWs0TkR24sx0TkN6Lm3Swiu9zXqU1E/mqi1zSpqKrdpvkGHAfum2DeN4EvRT3+NWCze38t0AncAOQD/w94OmpZxSkdAOwEPhE17+PAs7GWdR+vAU6593OBwzhfJHnudnuB5e78R4CzwM04R5nfBb4/wf9TB1wA7nJj/itgJPL/u+v641hxTLA+BbYBlUAhUAycBH7BjeUG9zVa5S7/Nfe1mI3z5Xs7kO/O+0Wg1I3rb4DXo7ZzKa7JYprC9qf8WsV4D6/6fXD/rzDwGaDAfXyLO++LwL+O2+6l/cV9XQ4Di4AS4MfAd9x5C9wY/9l9/d8BDAIrJ/h/vg/80H2d6oHTuPvhFF67MHCne38GcMNVfGZmAh8AitzX4N+B/xz3f78BrHJjyB33WiwB1rn7SDXwNPA34z7LzcBcnH3yOWLsNzg/tl8BvuC+l4uAo8D97vyfAh9175cAt3r9PTWl7zKvA0jHm7tTXQDOR91+2Z13H3A0atnngP/p3v8X4C+i5pUAw8AC9/F0JYg7gVYgK2r+94AvuvcfAb4RNS8I7J/gf/0CUV+I7pfCENeWINZGPf5Z4Jlxy/wT8Afuh/Ii8I4pvCcV7rrLx8c1WUyTbf9KX6sY7+FVvw/Ah4HXJtjGF5k8QWwH/nfUvOXufpbDmwliTtT8l4APxdhOtvu8FVHT/oQ3E8TlXrs3gP8FlF3mvZvwMxNj2euAc+P+74cnei1iPP+90a8rzmf5k+PegyMxPlO3AG+MW9fngG+5958G/hCouty+mkw3KzHFz3tVtSLq9s/u9B1AoYjcIiLzcXbo/3DnzQJORFagqheALpxfx9NpFnBS31qLPTFuO61R9/txktWE64o8UNU+nJivxcmo+/OBW9wyw3kROQ98BPABVTi/no+MX4GIZIvIn4nIERHpwfmg4z7nSky2/YipvlbjXcv7MJcY//cVbPdE1OMTOMmhdgrbjVbtPi/6/Ype7+Veuw/gfOGeEJGnROS2CeKd8DMjIkUi8k9uuawH54u4QkSyo55/8u2rdLhlqu+7Ja4e4F95+z4y/v+LVfadD8wa97/+Hm++pr8ELAP2i8jLIvLuiWJKJnaSOsFUdUxEfojzC7AN+Imq9rqzz+DsaACISDHOIfTpGKvqwzmsjvDFWGYiZ4C5IpIV9eU0Dzh4BeuICAMrIw9EpAgn5muJM7qL4ZPAU6q6bvxCIpIFDODUvXePm/1zwIM4vz6PA+XAOUCmsP1oE25/GlzL+3ASZx+K5XJdNL9lP3O3OYKzP86J+YzYOtznzQX2R60rOsYJXztVfRl4UERygU/hlKrmxlhuss/MZ3COgG5R1VYRuQ54jbe+z5O9Hn/qzl+tql0i8l7gq+OWiY5pHs7rN95J4JiqLp3gfz0EfNjdZ98PPCYiM90fVEnLjiC88W84h98fce9HT/8FEblORPJxDtdfVNXjMdbxOvB+9xfUEpxfKNHacOqgsbyI88X9OyKSKyJrgPfg1JOv1GPAu0XkXSKSBzzMW/er14GgiFSKiA/4rStc/0+AZeKcCM91bzeJyEr3S/WbwF+5JwizReQ297Urxamdd+EkqD+5iv9t0u1f5fqiXcv78BPAJyK/5Z7ILRWRW9x5bcAC98solu8BnxaRhSJSgvPa/ECvsMWYqo7inL/4orsf1gHR1xdM+NqJSJ6IfEREylV1GOjhrc3Cx5voM1OKU2Y8LyKVOKXHK1GKWw4WkdnA/4mxzK+JyBx3/b8H/CDGMi8BPSLyu+I0nMgWkXoRuQlARH5eRKrdffa8+5zJ/t+kYAkifv5bnFYkkVukjISqRr4YZgFNUdO3A78P/Ajnl/li4EMTrP+vcWr9bcC3cU5gRvsi8G33cPeD0TNUdQh4AGjAOWn49zg13f1cIVVtwTlp+G9uzOeA6FZK38H5dX8c2ErsD9dk6+8F1uO8DmdwSh9/jnNSEeAhIAS8jHNC989x9utHccoBp4G9wAtX+r9NcftX7VreBzeudTgJpRWnxdc97ux/d/92icirMZ7+TZz35WngGM5R2K9f5b/xKZzyUyvOOZNvjYtxstfuo8Bxt7TzSeDSdRvjTfSZwWl8UIjz+r0AbL7C+P8Q5+R5N7AJJ+GN9284++5R9/bH4xdwk+V7cMpfx9x4voFz5AqwAWgRpyXb3+Kc0xm4wlgTTtwTKMYYY8xb2BGEMcaYmCxBGGOMickShDHGmJgsQRhjjIkpba6DqKqq0gULFngdhjHGpJRXXnmlU1WrY81LmwSxYMECdu3a5XUYxhiTUkTkxETzrMRkjDEmJksQxhhjYrIEYYwxJiZLEMYYY2KyBGGMMSYmSxDGGGNisgRhjDEmprS5DuJqne8f4tvPn2D9qlpW+su8Dsd4qOVMN1uaWy+/4FV49ztmsay2NC7rNiZeMj5BiAhfffIQ/UMjliAy3B/8Vwu7TpxDrnTMuctQhddOnuc7v3TL5Rc2JolkfIIoL8zlXUuq2BQK89mGFch0fzuYlNDaPcCuE+f4zLpl/Pq9MUeNvGp/vnk/X3/6KOf6hphRnDet6zYmnuwcBNAQ8HPq3EWaT/d4HYrxyObmMADB1f5pX/fGgJ/RMWXb3rZpX7cx8WQJAlhfV0tOlrApFPY6FOORxlAry2tLWVxdMu3rXjWrjLmVhbZ/mZRjCQKoKMrj9iVVNDWHsSFYM097zwAvnzhLMDD9Rw/gnOcKBvw8d7iT7v7huGzDmHiwBOHaGPBxoqufljNWZso0m1taUYVgwBe3bQTr/YyMKVv3xqeVlDHxYAnCta7OR3aW0NRsZYBM0xgKs6SmhKVxbIa6ek45sysKaYpTM1pj4sEShKuyOI/bFs2kMdRqZaYM0tE7yEvH4ldeinDKTD6eOdRB90UrM5nUYAkiSjDg51hnH/tbe70OxSTIlpZWxuJcXopoCPgZHlW277PWTCY1WIKIsn5VLVnilBxMZmgMhVlUXczyBFzlfP3cCmaVF9j+ZVKGJYgoVSX53LpoJptC1popE3RdGOSFo10E6/0JuUBSRNhQ7+fpg530DliZySQ/SxDjNAT8HO3o42DbBa9DMXG2paXNLS/F9/xDtI2rfQyNjrFjf3vCtmnM1bIEMc6GVT7EykwZoak5zIKZRaz0J64TvevnzsBXVsCmPbZ/meRnCWKc6tJ8bl5QaQkizZ3rG+L5I10EA4kpL0VkZQkb6n3sPNjBhcGRhG3XmKthCSKGjav9HGq/wKE2a82UrrbubWV0TBNaXooIBvwMjViZySQ/SxAxRMpMdlFT+moMtTKvsohVsxLfxfuN82dQU5pPkx2lmiRnCSKGmrICbppvZaZ0db5/iOcOd9IQ8HnSvXukzPTkgXb6h6zMZJKXJYgJNAR87G/t5UiHtWZKN9v2tjEypmz0oLwUEQz4GRge48n9HZ7FYMzlWIKYwIZ658paKwOkn8ZQmNkVhQRml3sWw00LKqkqybOjVJPULEFMwF9eyDvnz6AxZOch0kn3xWGePdxJ0KPyUkR2lnD/Kh879rdzcWjUsziMmYwliEk01PvYG+7heGef16GYafLE3jaGR71pvTTexoCfi8Oj7DxgrZlMcrIEMYkG90uk0boATxtNzWFmlRdw3dwKr0Ph5oWVVBbn0Wit5UySsgQxidkVhVw3t8LqxGmiZ2CYpw920pDgi+MmkpOdxf2rfGzf18bAsJWZTPKxBHEZGwN+mk/38EZXv9ehmGu0Y187Q6NjCenae6qCAR/9Q6M8ddBaM5nkYwniMiKtmazMlPo2hcL4ygq4fu4Mr0O55NZFM5lRlGtHqSYpxTVBiMgGETkgIodF5LMx5s8Xke0iskdEdorInKh5fyEiLSKyT0T+TjyqCcytLOIdc8qtuWuKuzA4wlMHO9hQ7yMry/vyUkRudhbr63xs39duZSaTdOKWIEQkG/ga0ADUAR8Wkbpxi30ZeFRVVwMPA3/qPvd24A5gNVAP3ATcHa9YL6ch4Gf3qW5OnrUyU6ravq+NoZExNq72vvXSeMHVfi4MjvDsoU6vQzHmLeJ5BHEzcFhVj6rqEPB94MFxy9QB2937T0bNV6AAyAPygVzAs3Eag/XOl8pma22SsppCrdSU5vPOeclTXoq4ffFMygutzGSSTzwTxGzgZNTjU+60aLuBD7j33weUishMVf0pTsIIu7ctqrpv/AZE5FdEZJeI7OroiN9Jvnkzi6ifXcYm+wCnpL7BEZ480E5DkpWXIpwyUy3b9rUxOGJlJpM84pkgYn0Sx4/j+RBwt4i8hlNCOg2MiMgSYCUwByeprBWRu962MtWvq+qNqnpjdXX19EY/TkO9n9dPnuf0+Ytx3Y6Zfk8eaGdwZOzSdS3JKBjw0zswwnOHrcxkkkc8E8QpYG7U4znAmegFVPWMqr5fVa8HPu9O68Y5mnhBVS+o6gWgCbg1jrFeVuTKWztZnXoaQ2GqSvK5aUGl16FM6I4lVZQW5FjXLiapxDNBvAwsFZGFIpIHfAh4PHoBEakSkUgMnwO+6d5/A+fIIkdEcnGOLt5WYkqkhVXFrPSX2RgRKaZ/aIQn93ewob6W7CQsL0Xk5WSxrq6WrS2tDI2MeR2OMUAcE4SqjgCfArbgfLn/UFVbRORhEXnAXWwNcEBEDgK1wJfc6Y8BR4AQznmK3ar63/GKdao2Bny8cuIcrd0DXodipuipAx1cHB691NAgmQXr/fQMjPD8ESszmeQQ1+sgVLVRVZep6mJV/ZI77Quq+rh7/zFVXeou8wlVHXSnj6rq/1LVlapap6q/Hc84pypSw26yi+ZSxqZQmJnFedy8MHnLSxF3LquiJD/HWjOZpGFXUl+BxdUlrPCV0mR14pQwMDzKjv3trF/lIyc7+Xf1/Jxs7ltZw9a9bQyPWpnJeC/5PzVJpqHez8snztLeY2WmZLfzQAf9Q6Oejhx3pYIBP+f7h/npkS6vQzHGEsSV2rjahypsbrGjiGTX1BxmRlEuty5K/vJSxF3LqinOy7YypkkKliCu0JKaUpbWlLBpj32Ak9nA8Cjb97Vzf4qUlyIKcrO5d2UtW1raGLEyk/FY6nxykkhDwM9Lx8/S0TvodShmAs8c6uTC4EhSXxw3kWDAx9m+IV48dtbrUEyGswRxFTYG/FZmSnKNoTDlhbncvnim16FcsTXLayjKy7auXYznLEFchWW1JSyqLrarqpPU4MgoT+xtY31dLbkpVF6KKMjN5p4VNWxpbmV0bHzvNMYkTup9epKAiLAx4OeFo110XrAyU7J59lAnvYMjBJOwa++p2hjw09U3xEtWZjIesgRxlRrq/YwpbG3xrBdyM4HGUCtlBTncsbjK61Cu2prl1RTkZtlFc8ZTliCu0kp/KQuriu0DnGSGRsbYtreVdXU+8nJSd/cuysth7YoaNrdYmcl4J3U/QR4TERrqffz0aBdn+4a8Dse4njvSSc/ACMGAz+tQrllDvZ+O3kF2Hbcyk/GGJYhrEAz4GR1TtlprpqTRuCdMaX4O71qauuWliLUrasjPybIehI1nLEFcg1WzyphXWUSjfYCTwvDoGFv3tnFfXS35Odleh3PNivNzWLO8mqbmMGNWZjIesARxDUSEYMDP84c7Od9vZSavPX+ki+6LwzTUp355KSIY8NPWM8irb5zzOhSTgSxBXKNgwMfImLJ1r7Vm8lpTKExxXjZ3LYvv8LOJtHZFDXk5WXbRnPGEJYhrFJhdzpwZhdaayWPDo2NsaWnl3pW1FOSmfnkporQgl7uWVrO5udXKTCbhLEFco0iZ6bnDnXT3D3sdTsZ68ehZzvUPXxo7PJ1sXO0j3D3AayfPex2KyTCWIKZBQ72P4VHliX1WZvJKY3OYorxs1ixPn/JSxL0ra8nLzrKuXUzCWYKYBtfNrWBWeYGVmTwyMjrGluZW1q6oSavyUkRZQS53Lq2iqbkVVSszmcSxBDENRISGgJ9nDnXSM2BlpkR76fhZuvqG0rK8FNEQ8HP6/EV2n+r2OhSTQSxBTJNgwM/Q6BjbrcyUcI2hMIW52dyzvMbrUOJm3cpacrPFykwmoSxBTJPr51bgKyugMWQXzSXS6JiyubmNe1ZUU5iXfuWliPKiXO5YUsWmUNjKTCZhLEFMk6wsoSHg46mDHfRamSlhXj5+ls4Lg2ldXooIBvycOneR5tM9XodiMoQliGkUDPgZGhljx/52r0PJGE2hMPk5WWldXopYX1dLTpbYRXMmYSxBTKN3zptBTWm+tWZKkLExpam5lTXLqynOz/E6nLirKMrjtsUzaWq2MpNJDEsQ0ygry+kCfOeBDvoGR7wOJ+298sY52nszo7wUsTHg50RXPy1nrMxk4s8SxDRrCPgZtDJTQmzaEyYvJ4t7V9Z6HUrCrF/lIztLaGq2o1QTf5YgptlNCyqpKsm3D3CcjY0pm5tbuXtZNSUZUF6KqCzO47ZFM2kM2UVzJv4sQUyz7CxhQ30tO/a30z9kZaZ4ee3kOVp7BtJi5Lgr1RDwcayzj/2tvV6HYtKcJYg4CAb8DAyPsfNAh9ehpK3GUCt52ZlVXoq4f5WPLMEaQ5i4swQRBzcvqGRmcZ41R4yTsTGlKRTmzqVVlBXkeh1OwlWV5HPLwpl20ZyJu8wp3iZQTnYW99f7+I9XT3NxaDStr/D1wu5T5znTPcBn1i/3OhTPBFf7+f3/bOa3fvA6ednT+zuvpiyfz6xbTlaWTOt64+Ffnj3G/vD0t+jKz83it9ctp7I4b9rXnUosQcRJsN7Pv734Bk8dbGdDfeY0w0yExlCY3GzhvgwsL0VsDPj57gsnePnY2Wld79Co0nlhkLuWVnPLopnTuu7pdub8Rf7oJ3uZUZRL4TT34nume4A5M4r45N2Lp3W9qcYSRJzcuqiSGUW5NIZaLUFMI1WlMdTKu5ZUUV6UeeWliMriPDb/1l3Tvt6+wRFu+KNtNDW3Jn2C2Nzs9Hv2o1+9nUXVJdO67ge++ixNoXDGJwg7BxEnOdlZ3L/Kx/Z9bQwMj3odTtoIne7m9PmLNGTQxXGJVJyfw5rl1TQ1h5N+iNOm5jArfKXTnhzAaWiy+1Q3p871T/u6U4kliDgKBvz0DY3y9EFrzTRdNoXC5GQJ6+syt7wUb8GAn7aeQV5945zXoUyorWeAXSfOxe0q+qB71N+U4b0zW4KIo9sWz6SiKJem5szeyaaLqtIUauX2JVVUFGX2ycN4WruihrycrKTuun5zcyuqxC1BzJtZRP3sMhoz/IJXSxBxlJudxfq6Wp7Y28bgiJWZrlXLmR7eONvPxgy8OC6RSgtyuWtpcpeZNoXCLKstYUnN9JeXIhrq/bz2xnnOnL8Yt20ku7gmCBHZICIHROSwiHw2xvz5IrJdRPaIyE4RmeNOv0dEXo+6DYjIe+MZa7w0BPz0Do7w7KFOr0NJeY2hMNlZwro6SxDxtnG1j3D3AK+fOu91KG/T3jvAy8fPxr2Txsj6M7kCELcEISLZwNeABqAO+LCI1I1b7MvAo6q6GngY+FMAVX1SVa9T1euAtUA/sDVescbTHYurKCvIsYvmrpHTeinMbYtmZnzb9ES4d2UtedlZNO5Jvv12S5zLSxELq4pZ6S/L6CvW43kEcTNwWFWPquoQ8H3gwXHL1AHb3ftPxpgP8DNAk6qmZHOCvJws1tX52La3jaGRMa/DSVn7wr0c7+rPqK69vVRWkMudS6toak6+TgEbQ60sqSlhWW1p3Le1MeDjlRPnaO0eiPu2klE8E8Rs4GTU41PutGi7gQ+4998HlIrI+MbXHwK+F5cIEyQY8NE7MMJzh63MdLUaQ2GyBNavstZLidIQ8HP6/EV2n+r2OpRLOi8M8uKxLoL1iSkzNlwqM2XmUUQ8E0Ss6/TH/xR5CLhbRF4D7gZOA5e6QBURPxAAtsTcgMiviMguEdnV0ZG8TUnftbSK0vycjD5UvRaR8tKti2ZSVZLvdTgZY93KWnKzhaYk2m+3tLQypk5XI4mwuLqEFb7SjG3uGs8EcQqYG/V4DnAmegFVPaOq71fV64HPu9Oif658EPgPVR2OtQFV/bqq3qiqN1ZXV09v9NMoPyeb++pq2bq3jeFRKzNdqQNtvRzt7LOL4xKsvCiXO5ZUJVWngI2hMIuqilmegPJSREO9n5dPnKW9J/PKTPFMEC8DS0VkoYjk4ZSKHo9eQESqRCQSw+eAb45bx4dJ8fJSRDDgp/viMM8f6fI6lJTTGGpFBDasstZLiRas93Pq3EWaT3s/xGnXhUFeOHqWhoAPkcR1JBgM+FCFzS2ZdxQRtwShqiPAp3DKQ/uAH6pqi4g8LCIPuIutAQ6IyEGgFvhS5PkisgDnCOSpeMWYSHcuraIkPyepDtdTRVMozM0LKqkutfJSoq1fVUtOliRFK7yte9sYHdOEN1RYWlvK0poSNiVhi654i+t1EKraqKrLVHWxqn7JnfYFVX3cvf+Yqi51l/mEqg5GPfe4qs5W1bSoyRTkZnPvyhq2tLRamekKHGrr5VD7BTYmqOZs3qqiKI/bFs+kqdn7MlNjKMz8mUXU+csSvu2GgJ+Xjp+lo3fw8gunEbuSOoEa6v2c6x/mxaPT20VzOrPykvc2Bvyc6OpnbxzGXZiqc31DPH+ki2DAn9DyUsTGgB9V5yR5JrEEkUBrlldTlJedFIfrqaIxFOam+ZXUlBV4HUrGWr/KR3aWeNoKb1ukvORR1/nLaktYVF2ccS0RLUEkUEFuNmtX1LC1pZURKzNd1uH2Cxxo66XB+l7yVGVxHrctmkljyLuL5hqbw8ytLKR+duLLSwAiwsaAnxeOdtF1IXPKTJYgEmxjwE9X3xAvTfNIYOkockK/wQZc8lxDwMexzj72t/YmfNvd/cM8d7iTYL035aWIhno/YwpbWto8iyHRLEEk2JrlNRTmZmd8N8JT0djcyjvnz8BXbuUlr92/ykeW4EkrvG372hgeTXzrpfFW+ktZWFWcUVdVW4JIsMI8p8y0udmpqZrYjnX2sS/c4/mXgnFUleRzy8KZnlw01xgKM7uikNVzyhO63fFEhIZ6H88f6eJs35CnsSTKpAlCRH57sluigkw3DQEfnRcGefm4lZkm0nipvGTnH5JFcLWfIx19HGq/kLBt9gwM88yhDoIJvjhuIsGAn9ExZdvezGjNdLkjiNLL3MxVuGd5DQW5WRnXIuJKNIbCXD+vglkVhV6HYlz3r6pFhIReMPbEXqe8lCzdrKyaVca8yiI2ZUjfTDmTzVTVP0xUIJmkOD+HNctqaGpu5YvvWUVWlve/jJLJia4+Ws708PngSq9DMVFqSgu4eUElTc1hPr1uWUK22RhqZVZ5AdfPrUjI9i5HRAgG/HzjmaOc7x9K+6FvL1di+rvJbokKMh0FV/vp6B1k14nkHRjeK5GxkK15a/IJBvwcbLvA4fb4t2bqHRjm6UMdbPC49dJ4wYCPkTFl6970b810uRLTK5e5mav05sDwVmYar6k5zDvmlDNnRpHXoZhxNtT7EHkzicfTjv3tDI2MEUyyHwqB2eXMmVGYEf2qXa7E9O1EBZJpSvJzuHtZNZubW/nCu+uszOQ6ebafPae6+WzDCq9DMTHUlhVw4/wZNIbC/Ma9S+O6rcZQmNqyfG6YNyOu27lSkTLTt547RvfFYcoLc70OKW6m1MxVRKpF5Msi0igiOyK3eAeX7jYG/LT2DPDaSSszRUTamHvVpYK5vIZ6P/tbeznaEb/WTH2DI+w80EFDvT8pfzw11PsYHlWeSPMy01Svg/guTpfdC4E/BI7jjPdgrsHalTXOwPAZ0iJiKhpDrdTPLmPeTCsvJavIuaGm5vjttzv2tzM4Mpa018FcN7eCWeUFaX/R3FQTxExV/RdgWFWfUtVfBG6NY1wZoawgl7uWVdEUCjNmF81x+vxFXj95Pmm/FIzDX17IDfMq4trctTEUpro0n3fOT67yUoSI0BDw8/TBTnoGYg54mRammiAir0BYRDaKyPU4Q4iaa9RQ7+dM9wC7T533OhTPRU76WXkp+QUDfvaGezje2Tft6+4fGuHJA+001Du9yCarYMDP0OgYO/a1e3Im4HoAAB1JSURBVB1K3Ew1QfyxiJQDnwEeAr4BfDpuUWWQ++qcgeGtNZPzq7HOX8aCqmKvQzGXEblwLR59ij25v4OB4bGk76Tx+rkV+MoK0rr7/iklCFX9iap2q2qzqt6jqu+MjApnrk15YS7vWlLlaVfKySDcfZFX3zifdE0aTWyzKwq5bm4FTXE4f9bYHKaqJI+bF1ZO+7qnU1aW0BDw8dTBDi4MjngdTlxMtRXTt0WkIurxDBH5ZvzCyizBgJ/T5y+y51S316F4JvJFY+cfUkcw4CN0ups3uvqnbZ0Xh0bZsa+d+1cld3kpIhjwMzQyxvZ96dmaaaolptWqeqlIrqrngOvjE1LmWVfnDAyfyV2ANzWHWeErZVF1idehmCmKlICmsyXPUwfbuTg8ysYU+aHwznkzqCnNj8uRVDKYaoLIEpFLzQlEpJLLXGRnpq6iKI87llTR6EFXysmgrWeAXSfO2dFDiplbWcTqOeXTev5sU6iVyuLkLy9FZGU5XYA/eaCdvjQsM001QXwFeF5E/khEHgaeB/4ifmFlnmDAx8mzF2k5493A8F7Z3NyKKnb+IQUFA352n+rm1LlrLzMNDI+yY18b96/ykZOdOkPVBAN+BkfGePJA+rVmmupJ6keBDwBtQAfwflX9TjwDyzTr67wfGN4rjaEwy2pLWFJjPcinmsh4HdNRYnnqYAd9Q6Mp90PhxgWVVJXkp+Vn90rSdCXQp6r/D+gQkYVxiikjzSjO4/bFMzOuzNTeO8BLx88mfZNGE9v8mcWsmlU2LefPmkJhKopyuXXRzGmILHGys4QN9bU8ub+D/qH0KjNNtRXTHwC/C3zOnZQL/Gu8gspUwYCf41397AsnfmB4r2xpaUMVNq62BJGqggE/r71xnjPnL171OgZHRnliXzv31/nITaHyUkQw4Ofi8Cg7D3R4Hcq0muo78T7gAaAPQFXPYCPKTbv1dbUZV2Zq3BNmcXUxS2us9VKqijQuuJa+mZ452MmFwZGUHQPk5gWVzCzOS7vP7lQTxJA6dQ8FEBG71DUOZpbkc+uiyowpM3VeGOTFY11sDCTXgDDmyiysKmalv+yaxkdobA5TXpjLHUuqpjGyxMnJzuL+eh879rczMDzqdTjTZqoJ4oci8k9AhYj8MvAETncbZpo11Ps52tnHgbb0LzNtaWllTEma8YbN1QvW+9h14hyt3QNX/NzBkVG27W1jXV1tSpaXIoL1fvqH0qvMNNVWTF8GHgN+BCwHvqCqNuRoHNy/ykdWgkbs8lpTqJVFVcWs8Fm1MtUF3XNIm6/iZPXzh7voHRhJmYvjJnLrokpmFOWmVRfgU07XqrpNVf+Pqj4E7BCRj8QxroxVXZrPzQsr066WOd7ZviF+erSLhoDPyktpYHF1CctrS6/qh82mUJjSgpyULS9F5GRncf8qH9v3pU+ZadIEISJlIvI5EfmqiKwXx6eAo8AHExNi5gkG/Bxuv8ChNC4zbW1pZXRMrXlrGgkG/Lx84iztPVMvMw2NjLG1pZV1dbXk5aRueSkiGPBzYXCEZw51eh3KtLjcO/IdnJJSCPgEsBX4H8CDqvpgnGPLWBtWOQPDp3M3wptCYebPLGLVrDKvQzHTJBjwoQqbW6Z+FPH8kU56BkbSZgyQ2xbPpKIoN20qAJdLEItU9eOq+k/Ah4EbgXer6uvxDy1z1ZQVcNP8yrTtAOxc3xDPH+miod5aL6WTpbWlLK0puaIvx6ZQKyX5Ody5LLXLSxG52Vmsr6vlib1tDI6kfpnpcgni0lh6qjoKHFPV9K17JJFgwMeBtl4Ot8dvYHivbNvbxuiYpvxJSfN2DQE/Lx07S0fv4GWXHR4dY8veVu5bWUN+TnYCokuMhoCf3sERnk2DMtPlEsQ7RKTHvfUCqyP3RSTzepVLoA2RrpTT5FA1WmNzmDkzCqmfbeWldLMx4GdMnSbMl/PC0S7O9w+nXS++dyyuoqwgJy1aIk6aIFQ1W1XL3FupquZE3bdPdxz5ygu4cf4MGq/h6tRk1N0/zHOHO+3iuDS1rLaERdXFUyozNYbCFOdlc9ey6gREljh5OVmsq/OxbW8rQyNjXodzTVK/2UAaawj42Rfu4VgcBob3yrZ9bQyPql0cl6ZEhGC9nxeOdtF1YeIy08joGFta2li7spaC3PQpL0UEAz56BkZ47khql5ksQSSxSFfK6dIiApyS2eyKQt4xp9zrUEycBN0y09a9Ew/D+dKxs5ztG2Jjiva9dDnvWlpFaX4OjXtS+7Mb1wQhIhtE5ICIHBaRz8aYP19EtovIHhHZKSJzoubNE5GtIrJPRPaKyIJ4xpqMZlUUcv28irRJED0DwzxzqJOGers4Lp2t9JeyYGbRpPvtplCYwtxs7l5Wk8DIEic/J5v76mrZureN4dHULTPFLUGISDbwNaABqAM+LCJ14xb7MvCoqq4GHgb+NGreo8BfqupK4GYg/YZrmoKNAT8tZ3o40ZX6Zabt+9oYGh271C2DSU8iQjDg5/kjXZzrG3rb/NExZUtLK2tX1lCYl37lpYhgwE/3xWF+eqTL61CuWjyPIG4GDqvqUVUdAr4PjL+4rg7Y7t5/MjLfTSQ5qroNQFUvqOq1j2mYgjZcKjOl/snqTXta8ZcXcN2cCq9DMXEWDPgZHVO27n37fvvSsbN0XhhKm4vjJnLn0ipK8nNSugIQzwQxGzgZ9fiUOy3abpyhTMEZc6JURGYCy4DzIvJjEXlNRP7SPSLJOHNmFPGOuRUp3wFY78AwTx/qoKHeT1aWlZfS3apZZcyrLIr5w6apOUxBbhb3rEiv1kvjFeRmc+/KGra0tDKSomWmeCaIWN8C4wc5eAi4W0ReA+4GTgMjQA5wpzv/JmAR8PG3bUDkV0Rkl4js6uhIny52xwvW+9hzqpuTZ1P3IGrH/naGRsZSbrxhc3VEhIaAj+cOd3K+/80y0+iY0tTcyj3LayjKy/EwwsRoqPdzrn+YF46e9TqUqxLPBHEKmBv1eA5wJnoBVT2jqu9X1euBz7vTut3nvuaWp0aA/wRuGL8BVf26qt6oqjdWV6fvr5E3R+xK3aOIxlCY2rJ8bpg3w+tQTIJsDPgZGVO2RbVmeuXEOTp6B9Pu4riJrFleTVFe9rSM2e2FeCaIl4GlIrJQRPKADwGPRy8gIlUiEonhc8A3o547Q0Qi3/prgb1xjDWpza0sIjC7nE0peh6ib3CEnQesvJRpArPLmTOj8C01+MZQmPycLNauSM/WS+MV5GazdkUNW5pTs8wUtwTh/vL/FLAF2Af8UFVbRORhEXnAXWwNcEBEDgK1wJfc547ilJe2i0gIp1z1z/GKNRUEA352nzzPqXOpV2basb+dwZGxjPnVaByR1kzPHu6k++IwY2NKU3OYNcurKc5P//JSxMaAn66+IV46nnplprheB6Gqjaq6TFUXq2rky/8Lqvq4e/8xVV3qLvMJVR2Meu42VV2tqgG3R9m3t5fLIJGL5janYNcbTc1hqkvzeed8Ky9lmoZ6H8OjyhN723j1jXO09WROeSlizfIaCnOzU7I1k11JnSIWVBVT5y9LuZ2sf2iEHfvb2bDKR7aVlzLOdXMrmFVeQFNzmMZQK3kZVF6KKMxzykybm51ejFOJJYgUsnG1n1ffOE+4+6LXoUzZzgMdDAxbeSlTOa2Z/Dx9sJOf7DnDXUurKS3I9TqshGsI+Oi8MMjLKVZmsgSRQiJlplQaSGhTKExVSR43L6z0OhTjkWDAx9DoGO29gxnbzPme5TXk52SlXPf9mXOmKA0sqi5hha+UxlCYX3zXQq/DuayB4VGe3N/O+66fbeWlDHb93Bn4ygro6hvkvrpar8PxRHF+Dvcsr+HHr57maBx6Z15cXcIXH1g17eu1BJFiggE/f/3EQdp6BqgtK/A6nEntPNBO/9ColZcyXFaW8Nvrl9HRO0hZBpaXIn7pzoV0XhjkwuDItK/74lB8hje1BJFiggE/f7XtIJubW/nY7Qu8DmdSjaFWKovzuMXKSxnvgzfOvfxCae6mBZU89qu3ex3GFbFzEClmSU0Jy2pL2JTktcyB4VG272vj/lW15GTbbmZMKrJPbgoKBvy8fPws7b0DXocyoacPdtBn5SVjUpoliBQUDPhRhS1JfNFcYyhMRVEuty6a6XUoxpirZAkiBS2rLWVJTUnSjhExODLKE/vaub/OR66Vl4xJWfbpTVHBeh8vHuuic5KB4b3yzMFOLgyO0JChbd6NSReWIFJUcLUzMPyWluQ7imhsDlNemMsdS6q8DsUYcw0sQaSo5bWlLKoqTrq+mYZGxti2t411dbVWXjImxdknOEVFulJ+4ehZupKozPTc4U56B0bYaK2XjEl5liBSWEPA5w4M33b5hROkMRSmtCCH25dY6yVjUp0liBRW5y9j/syipCkzDY+OsXVvG+tW1pKfk+11OMaYa2QJIoVFykzPH+niXJ/34yk9f6SL7ovDdnGcMWnCEkSKC9b7GR03MLxXGveEKcnP4V1LrfWSMenAEkSKq59dxtzKQhqbvS0zDY+OsWVvK/etrKEg18pLxqQDSxApTkQI1vt57nAn3f3DnsXxwtEuzvcP02DlJWPShiWINBAM+BkeVbbt867M1BhqpTgvm7uXVXsWgzFmelmCSAOr55Qzu6LQs9ZMI6NjbGlpZe3KWisvGZNGLEGkAac1k49nDnXQM5D4MtNLx85ytm+Ijdb3kjFpxRJEmmhwy0xPeNCaaVMoTGFuNncvq0n4to0x8WMJIk1cP7eCWeUFCe8CfHRM3fJSDYV5Vl4yJp1YgkgTIsKGej9PH+qgN4FlppePn6XzwhDBemu9ZEy6sQSRRoIBH0MjY+zY356wbTaGwhTkZnHPCmu9ZEy6sQSRRm6YN4Pasnw27UlMa6axMaWpuZV7ltdQlJeTkG0aYxLHEkQaycoSGur97DzYwYXBkbhvb9eJc3T0DtrFccakKUsQaSYY8CeszNQYCpOfk8XaFdZ6yZh0ZAkizbxz/gyqS/NpivNFc055Kczdy6opybfykjHpyBJEmsnOEhrqfTx5oJ3+ofiVmV47eY62nkE2rrbykjHpyhJEGmqo9zMwPMaT+zvito1Ne1rJs/KSMWnNEkQaunlhJVUleXHrmylSXrpraTWlBblx2YYxxnuWINJQdpZw/yofO/a3c3FodNrX//qp84S7Bwha30vGpDVLEGlqY8DPxeFRdh6Y/tZMTaEwudnCfXW1075uY0zysASRpm5eWEllcR6NzdPbN5Oq0hhq5c6l1ZRZecmYtGYJIk3lZGc5ZaZ9bQwMT1+Zac+pbk6fv0jQLo4zJu1ZgkhjwYCPvqFRnjo4fa2ZGpvD5GQJ61ZaecmYdBfXBCEiG0TkgIgcFpHPxpg/X0S2i8geEdkpInOi5o2KyOvu7fF4xpmubl00k4qi3Gm7aM4pL4W5Y0kV5UVWXjIm3cUtQYhINvA1oAGoAz4sInXjFvsy8KiqrgYeBv40at5FVb3OvT0QrzjTWW52FvfX+XhiX/u0lJlazvRw8uxFNlp5yZiMEM8jiJuBw6p6VFWHgO8DD45bpg7Y7t5/MsZ8c40aAj4uDI7w7KHOa17XplCY7CxhnbVeMiYjxDNBzAZORj0+5U6Lthv4gHv/fUCpiMx0HxeIyC4ReUFE3htrAyLyK+4yuzo64nfVcCq7Y0kV5YW513zRnKrSFApz++KZzCjOm6bojDHJLJ4JQmJM03GPHwLuFpHXgLuB00CkA6F5qnoj8HPA34jI4retTPXrqnqjqt5YXW0D1sSSm53Furpatu1rY3Dk6stMe8M9HO/qt9ZLxmSQeCaIU8DcqMdzgDPRC6jqGVV9v6peD3zendYdmef+PQrsBK6PY6xpbWPAT+/ACM8dvvoyU1Oo9dIV2saYzBDPBPEysFREFopIHvAh4C2tkUSkSkQiMXwO+KY7fYaI5EeWAe4A9sYx1rR2x5IqSgtyaAxd3UVzkdZLty5yLr4zxmSGuCUIVR0BPgVsAfYBP1TVFhF5WEQirZLWAAdE5CBQC3zJnb4S2CUiu3FOXv+ZqlqCuEp5OU6ZaWtLK0MjY1f8/ANtvRzt7LPykjEZJq4jvahqI9A4btoXou4/BjwW43nPA4F4xpZpgvV+fvzqaZ4/0sma5VfWRXfjnjBZgpWXjMkwdiV1hrhzWRUl+TlX1ZqpsbmVWxbOpKokPw6RGWOSlSWIDJGfk819K2vYureN4dGpl5kOtfVyuP2Cde1tTAayBJFBGgJ+zvcP89MjXVN+zqZQGBG4v94ShDGZxhJEBrl7WTXFedk0NU+9zNQUauWmBZXUlBbEMTJjTDKyBJFBCnKzWbuyli0tbYxMocx0uP0CB9p6CdrRgzEZyRJEhtkY8HG2b4gXj5297LKRXmAbrHmrMRnJEkSGuXtZDYW52WyaQmumTaEwN86fQW2ZlZeMyUSWIDJMYV42a1fWsKW5ldGx8V1jveloxwX2t/baxXHGZDBLEBkoWO+nq2+IF49N3JqpyR3LusGatxqTsSxBZKB7VlRTkJtF0yR9MzWGwtwwrwJ/eWECIzPGJBNLEBmoKC+He5bXsLkldpnpRFcfLWd6rLxkTIazBJGhggE/Hb2D7Dr+9tZMkV5frfWSMZnNEkSGWruihvycrEvnGqI1hsK8Y24FsyusvGRMJrMEkaGK83NYs7yapuYwY1FlppNn+wmd7majnZw2JuNZgshgwYCftp5BXn3j3KVpkW44GuqtvGRMprMEkcHWrqghLyfrLRfNbQq1EphdztzKIg8jM8YkA0sQGay0IJe7llazubmVsTHl1Ll+dp88b62XjDGAJYiMFwz4CHcP8NrJ82x2T1jb2A/GGIjzkKMm+d1XV0tuttAUCvPqG+dYNauM+TOLvQ7LGJME7Agiw5UV5HLn0mp+/NppXn3DykvGmDdZgjAEA37O9g0B0GBjPxhjXFZiMqxb6ZSZFleXsKi6xOtwjDFJwhKEobwoly+8ZxXzrWmrMSaKJQgDwEdvne91CMaYJGPnIIwxxsRkCcIYY0xMliCMMcbEZAnCGGNMTJYgjDHGxGQJwhhjTEyWIIwxxsRkCcIYY0xMoqqXXyoFiEgHcOIaVlEFdE5TOPGWSrFCasWbSrFCasWbSrFCasV7LbHOV9XqWDPSJkFcKxHZpao3eh3HVKRSrJBa8aZSrJBa8aZSrJBa8cYrVisxGWOMickShDHGmJgsQbzp614HcAVSKVZIrXhTKVZIrXhTKVZIrXjjEqudgzDGGBOTHUEYY4yJyRKEMcaYmDI+QYjIBhE5ICKHReSzXsczGRGZKyJPisg+EWkRkd/0OqbLEZFsEXlNRH7idSyXIyIVIvKYiOx3X+PbvI5pIiLyaXcfaBaR74lIgdcxRRORb4pIu4g0R02rFJFtInLI/TvDyxgjJoj1L939YI+I/IeIVHgZY7RY8UbNe0hEVESqpmNbGZ0gRCQb+BrQANQBHxaROm+jmtQI8BlVXQncCvxakscL8JvAPq+DmKK/BTar6grgHSRp3CIyG/gN4EZVrQeygQ95G9XbPAJsGDfts8B2VV0KbHcfJ4NHeHus24B6VV0NHAQ+l+igJvEIb48XEZkLrAPemK4NZXSCAG4GDqvqUVUdAr4PPOhxTBNS1bCqvure78X5ApvtbVQTE5E5wEbgG17HcjkiUgbcBfwLgKoOqep5b6OaVA5QKCI5QBFwxuN43kJVnwbOjpv8IPBt9/63gfcmNKgJxIpVVbeq6oj78AVgTsIDm8AEry3AXwO/A0xby6NMTxCzgZNRj0+RxF+40URkAXA98KK3kUzqb3B22DGvA5mCRUAH8C23JPYNESn2OqhYVPU08GWcX4phoFtVt3ob1ZTUqmoYnB87QI3H8UzVLwJNXgcxGRF5ADitqrunc72ZniAkxrSkb/crIiXAj4DfUtUer+OJRUTeDbSr6itexzJFOcANwD+o6vVAH8lTAnkLt3b/ILAQmAUUi8jPextVehKRz+OUdr/rdSwTEZEi4PPAF6Z73ZmeIE4Bc6MezyHJDtXHE5FcnOTwXVX9sdfxTOIO4AEROY5TulsrIv/qbUiTOgWcUtXIEdljOAkjGd0HHFPVDlUdBn4M3O5xTFPRJiJ+APdvu8fxTEpEPga8G/iIJvcFY4txfizsdj9vc4BXRcR3rSvO9ATxMrBURBaKSB7Oib7HPY5pQiIiODXyfar6V17HMxlV/ZyqzlHVBTiv6w5VTdpfuaraCpwUkeXupHuBvR6GNJk3gFtFpMjdJ+4lSU+oj/M48DH3/seA//IwlkmJyAbgd4EHVLXf63gmo6ohVa1R1QXu5+0UcIO7T1+TjE4Q7kmoTwFbcD5gP1TVFm+jmtQdwEdxfo2/7t6CXgeVRn4d+K6I7AGuA/7E43hico9yHgNeBUI4n+Ok6hZCRL4H/BRYLiKnROSXgD8D1onIIZzWNn/mZYwRE8T6VaAU2OZ+zv7R0yCjTBBvfLaV3EdOxhhjvJLRRxDGGGMmZgnCGGNMTJYgjDHGxGQJwhhjTEyWIIwxxsRkCcIkJbdHyq9EPX5IRL44Teu+MB3rmWDdO0VkSoPHi8jH3SaL0dOqRKRDRPKvYJufFJH/eZllHhGRn4kxfU0q9LRrvGEJwiSrQeD909Vt8ZVyO8GLtx/jXBdQFDXtZ4DHVXVwKisQkRxV/UdVfTQuEZqMZgnCJKsRnIu/Pj1+hojMF5Htbl/920Vknjv9ERH5B3fMjKMicrfbd/4+EXlk3Dq+IiKvus+vdqftFJE/EZGngN8UkWoR+ZGIvOze7ogRS6GIfN+N5QdAYdS89SLyU3c7/+72oXWJ24/W08B7oiZ/CPie+/wvuNttFpGvu1dNx4rziyLykDvvl93n7HZjj04+94nIMyJy0O0ra/z/Uuy+Xi+7HRY+6E5fJSIvuReM7RGRpRO8ZybNWIIwyexrwEdEpHzc9K8Cj7p99X8X+LuoeTOAtTiJ5b9xukBeBQRE5Dp3mWLgVVW9AXgK+IOo51eo6t2q+hWc8SH+WlVvAj5A7G7LfxXod2P5EvBOcEpFwP8F7nO3swv47RjP/x7uWA4iMgtYBjwZ+T9V9SZ3zIdCnH6BYsUZ7cfucyLjWURfZbsAuBunC/Z/lLcPMvR5nC5RbgLuAf5SnB5tPwn8rapeB9yI05WDyQCJOIw25qqoao+IPIozOM7FqFm3Ae93738H+Iuoef+tqioiIaBNVUMAItKC8wX5Ok734z9wl/9XnFJPxA+i7t8H1Lk/3AHKRKTUHYsj4i7cBKWqe9xuOsAZ0KkOeM59fh5O9wjj/QT4e3HGo/gg8Jiqjrrz7hGR38EZ76ESaMFJeuPjjFYvIn8MVAAlON3IRPxQVceAQyJyFFgx7rnrcTpYfMh9XADMc+P+vDjje/xYVQ9NsG2TZixBmGT3Nzh9Dn1rkmWi+4uJ1O7Hou5HHk+0v0c/vy/qfhZwm6peZHKx+qsRYJuqfnjSJ6peFJHNwPtwjiQ+DeD+uv97nFHjTron6KN/8feNX5frEeC9qrpbRD4OrJkkzvGPBfiAqh4YN32fiLyIc+SxRUQ+oao7Jvu/THqwEpNJaqp6Fvghby2VPM+bQ2x+BHj2ClebhXMyGODnJnn+VpzOHAGIKlFFe9qNARGpB1a7018A7hCRJe68IhFZNsF2vodTfqp1nwdvJoNO99zF21ogTaAUCIvTLfxHxs37HyKSJSKLcQZIGp8ItgC/HnWu43r37yLgqKr+HU6PrKsxGcEShEkFXwGiWzP9BvALbjnnozjjXl+JPmCViLyCc77i4QmW+w3gRvfE7F6cWvx4/wCUuLH8DvASgKp2AB8HvufOe4G3l3QituIM/PODyLgD7nCn/4zTW+t/4nRNPxW/jzPK4DZg/7h5B3DOuTQBn1TVgXHz/wjIBfaISLP7GOBngWYRed39H6zFVIaw3lyNMcbEZEcQxhhjYrIEYYwxJiZLEMYYY2KyBGGMMSYmSxDGGGNisgRhjDEmJksQxhhjYvr/Ziiv86G8WcEAAAAASUVORK5CYII=\n",
      "text/plain": [
       "<Figure size 432x288 with 1 Axes>"
      ]
     },
     "metadata": {
      "needs_background": "light"
     },
     "output_type": "display_data"
    }
   ],
   "source": [
    "KNN=KNeighborsClassifier(n_neighbors=5) \n",
    "scores=np.zeros(scaled_X_train.shape[1]+1)\n",
    "for f in np.arange(0, scaled_X_train.shape[1]+1):\n",
    "    X1_f = scaled_X_train[:,sorted_idx[:f+1]]\n",
    "    X2_f = scaled_X_test[:,sorted_idx[:f+1]] \n",
    "    KNN.fit(X1_f,y_train)\n",
    "    YKNN=KNN.predict(X2_f) \n",
    "    scores[f]=np.round(recall_score(y_test,YKNN),3)\n",
    "plt.plot(scores)\n",
    "plt.xlabel(\"Nombre de Variables\")\n",
    "plt.ylabel(\"Recall\")\n",
    "plt.title(\"Evolution du recall en fonction des variables\") \n",
    "plt.show()"
   ]
  },
  {
   "cell_type": "markdown",
   "metadata": {},
   "source": [
    "## Paramètrage classifieur KNN"
   ]
  },
  {
   "cell_type": "code",
   "execution_count": 241,
   "metadata": {},
   "outputs": [
    {
     "name": "stdout",
     "output_type": "stream",
     "text": [
      "0.8707865168539326\n",
      "{'n_neighbors': 3}\n",
      "KNeighborsClassifier(algorithm='auto', leaf_size=30, metric='minkowski',\n",
      "                     metric_params=None, n_jobs=None, n_neighbors=3, p=2,\n",
      "                     weights='uniform')\n"
     ]
    }
   ],
   "source": [
    "from sklearn.model_selection import GridSearchCV\n",
    "k_range = [1,3,7,9,11]\n",
    "param_grid = dict(n_neighbors = k_range)\n",
    "knn = KNeighborsClassifier()\n",
    "grid = GridSearchCV(knn, param_grid, scoring = 'accuracy')\n",
    "grid.fit(new_X_train,y_train)\n",
    "print (grid.best_score_)\n",
    "print (grid.best_params_)\n",
    "print (grid.best_estimator_)"
   ]
  },
  {
   "cell_type": "markdown",
   "metadata": {},
   "source": [
    "# Comparaison de plusieurs algorithmes d’apprentissage"
   ]
  },
  {
   "cell_type": "code",
   "execution_count": 242,
   "metadata": {},
   "outputs": [],
   "source": [
    "from sklearn.model_selection import KFold , cross_val_score\n",
    "from sklearn.metrics import accuracy_score ,  precision_score , recall_score\n",
    "from sklearn.naive_bayes import GaussianNB\n",
    "from sklearn.neural_network import MLPClassifier \n",
    "from sklearn.ensemble import BaggingClassifier , AdaBoostClassifier\n",
    "from sklearn.svm import SVC\n",
    "from sklearn.dummy import DummyClassifier\n",
    "import time\n",
    "def run_classifiers(X,y):\n",
    "    clfs = {\n",
    "     'RF': RandomForestClassifier(n_estimators=50, random_state=1), \n",
    "     'KNN': KNeighborsClassifier(n_neighbors=5),\n",
    "     'GNB'  :  GaussianNB(),\n",
    "     'CART' : DecisionTreeClassifier(random_state =1 , criterion=\"entropy\"),\n",
    "     'Stump' : DecisionTreeClassifier(max_depth=None, random_state=1),\n",
    "     'MLP 20' : MLPClassifier(hidden_layer_sizes=(20, 1)),\n",
    "     'MLP 10 ' : MLPClassifier(hidden_layer_sizes=(10, 1)),\n",
    "     'bagging' : BaggingClassifier(base_estimator=DecisionTreeClassifier(), n_estimators=50, random_state=1),\n",
    "     'adaboost' : AdaBoostClassifier(n_estimators=50, random_state=1),\n",
    "     'svm' : SVC(gamma='auto' , kernel='rbf'),\n",
    "\n",
    "     'Dummy' : DummyClassifier(strategy='most_frequent', random_state=1)\n",
    "    }\n",
    "    kf = KFold(n_splits=10, shuffle=True, random_state=0)\n",
    "    kf5 = KFold(n_splits=5, shuffle=True, random_state=0)\n",
    "    for i in clfs:\n",
    "        clf = clfs[i]\n",
    "        start = time.clock()\n",
    "        cv_acc = cross_val_score(clf, X, y, cv=kf)\n",
    "        end = time.clock()\n",
    "        scores = cross_val_score(clf, X, y, cv=kf, scoring='roc_auc')\n",
    "        print(i)\n",
    "        print(\"Accuracy is:\" , np.mean(cv_acc),  \"+/-\" ,np.std(cv_acc))\n",
    "        print(\"AUC is:\", np.mean(scores), \"+/-\", np.std(scores))\n",
    "        print(\"exuction time %.2gs\" % (end-start))\n",
    "        #recall = cross_val_score(clf, X, y, cv=5, scoring='recall')\n",
    "        #print('Recall for ', i , ' ', np.mean(recall))\n",
    "        precision = cross_val_score(clf, X, y, cv=kf, scoring='precision')\n",
    "        print('Precision is:',np.mean(precision) , '+/-', np.std(precision))"
   ]
  },
  {
   "cell_type": "code",
   "execution_count": 243,
   "metadata": {
    "scrolled": true
   },
   "outputs": [
    {
     "name": "stdout",
     "output_type": "stream",
     "text": [
      "RF\n",
      "Accuracy is: 0.9968253968253968 +/- 0.006349206349206371\n",
      "AUC is: 1.0 +/- 0.0\n",
      "exuction time 1.8s\n",
      "Precision is: 0.9980392156862745 +/- 0.005882352941176483\n",
      "KNN\n",
      "Accuracy is: 0.7344598054275474 +/- 0.041065028161802346\n",
      "AUC is: 0.7668869492535716 +/- 0.06316218332716446\n",
      "exuction time 0.1s\n",
      "Precision is: 0.7935378652169978 +/- 0.05705805226125534\n",
      "GNB\n",
      "Accuracy is: 0.8742959549411162 +/- 0.03349199264813336\n",
      "AUC is: 0.9344806468861613 +/- 0.0326589056040077\n",
      "exuction time 0.036s\n",
      "Precision is: 0.938595793032832 +/- 0.029165782169730616\n",
      "CART\n",
      "Accuracy is: 1.0 +/- 0.0\n",
      "AUC is: 1.0 +/- 0.0\n",
      "exuction time 0.056s\n",
      "Precision is: 1.0 +/- 0.0\n",
      "Stump\n",
      "Accuracy is: 1.0 +/- 0.0\n",
      "AUC is: 1.0 +/- 0.0\n",
      "exuction time 0.043s\n",
      "Precision is: 1.0 +/- 0.0\n",
      "MLP 20\n",
      "Accuracy is: 0.6329749103942652 +/- 0.17057667608958627\n",
      "AUC is: 0.5 +/- 0.0\n",
      "exuction time 5s\n",
      "Precision is: 0.4932923707117255 +/- 0.3286466449729328\n",
      "MLP 10 \n",
      "Accuracy is: 0.5980542754736303 +/- 0.19277989594736253\n",
      "AUC is: 0.5018518518518519 +/- 0.00555555555555558\n",
      "exuction time 4s\n",
      "Precision is: 0.369112672391361 +/- 0.3708548065944935\n",
      "bagging\n",
      "Accuracy is: 1.0 +/- 0.0\n",
      "AUC is: 1.0 +/- 0.0\n",
      "exuction time 1.9s\n",
      "Precision is: 1.0 +/- 0.0\n",
      "adaboost\n",
      "Accuracy is: 1.0 +/- 0.0\n",
      "AUC is: 1.0 +/- 0.0\n",
      "exuction time 0.078s\n",
      "Precision is: 1.0 +/- 0.0\n",
      "svm\n",
      "Accuracy is: 0.7059907834101382 +/- 0.0659281910127376\n",
      "AUC is: 0.5 +/- 0.0\n",
      "exuction time 0.61s\n",
      "Precision is: 0.7059907834101382 +/- 0.0659281910127376\n",
      "Dummy\n",
      "Accuracy is: 0.7059907834101382 +/- 0.0659281910127376\n",
      "AUC is: 0.5 +/- 0.0\n",
      "exuction time 0.067s\n",
      "Precision is: 0.7059907834101382 +/- 0.0659281910127376\n"
     ]
    }
   ],
   "source": [
    "run_classifiers(carac,target)"
   ]
  },
  {
   "cell_type": "code",
   "execution_count": 244,
   "metadata": {},
   "outputs": [
    {
     "data": {
      "text/plain": [
       "KNeighborsClassifier(algorithm='auto', leaf_size=30, metric='minkowski',\n",
       "                     metric_params=None, n_jobs=None, n_neighbors=3, p=2,\n",
       "                     weights='uniform')"
      ]
     },
     "execution_count": 244,
     "metadata": {},
     "output_type": "execute_result"
    }
   ],
   "source": [
    "KNN = KNeighborsClassifier(algorithm='auto', leaf_size=30, metric='minkowski',\n",
    "                     metric_params=None, n_jobs=None, n_neighbors=3, p=2,\n",
    "                     weights='uniform')\n",
    "KNN.fit(carac,target)"
   ]
  },
  {
   "cell_type": "code",
   "execution_count": 245,
   "metadata": {},
   "outputs": [
    {
     "data": {
      "text/plain": [
       "array([1.])"
      ]
     },
     "execution_count": 245,
     "metadata": {},
     "output_type": "execute_result"
    }
   ],
   "source": [
    "y=KNN.predict([[101337.50,62.50,3.62,0.12,98366.25,270.84,273.99,4.12,295.00,79.62,22373.75,5.62,537.50,26.870858]])\n",
    "y"
   ]
  },
  {
   "cell_type": "code",
   "execution_count": 246,
   "metadata": {},
   "outputs": [],
   "source": [
    "clf = GaussianNB()"
   ]
  },
  {
   "cell_type": "code",
   "execution_count": 247,
   "metadata": {},
   "outputs": [
    {
     "data": {
      "text/plain": [
       "GaussianNB(priors=None, var_smoothing=1e-09)"
      ]
     },
     "execution_count": 247,
     "metadata": {},
     "output_type": "execute_result"
    }
   ],
   "source": [
    "clf.fit(carac, target)"
   ]
  },
  {
   "cell_type": "code",
   "execution_count": 248,
   "metadata": {},
   "outputs": [
    {
     "name": "stdout",
     "output_type": "stream",
     "text": [
      "[1.]\n"
     ]
    }
   ],
   "source": [
    "print(clf.predict([[101337.50,62.50,3.62,0.12,98366.25,270.84,273.99,4.12,295.00,79.62,22373.75,5.62,537.50,26.870858]]))"
   ]
  },
  {
   "cell_type": "code",
   "execution_count": null,
   "metadata": {},
   "outputs": [],
   "source": []
  }
 ],
 "metadata": {
  "kernelspec": {
   "display_name": "Python 3",
   "language": "python",
   "name": "python3"
  },
  "language_info": {
   "codemirror_mode": {
    "name": "ipython",
    "version": 3
   },
   "file_extension": ".py",
   "mimetype": "text/x-python",
   "name": "python",
   "nbconvert_exporter": "python",
   "pygments_lexer": "ipython3",
   "version": "3.7.4"
  }
 },
 "nbformat": 4,
 "nbformat_minor": 2
}
